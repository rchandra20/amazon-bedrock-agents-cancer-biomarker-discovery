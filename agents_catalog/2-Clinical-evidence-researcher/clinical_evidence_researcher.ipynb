{
 "cells": [
  {
   "cell_type": "markdown",
   "id": "24cee39a-a77d-4493-a532-56935aa07fd8",
   "metadata": {
    "tags": []
   },
   "source": [
    "# Clinical Evidence Researcher Agent\n",
    "In this notebook we create the clinical evidence researcher sub-agent"
   ]
  },
  {
   "cell_type": "markdown",
   "id": "3c401dd7-dd66-44cd-a02a-fcdd95d98605",
   "metadata": {},
   "source": [
    "#### Ensure the latest version of boto3 is shown below"
   ]
  },
  {
   "cell_type": "code",
   "execution_count": null,
   "id": "73745fd0-9df8-4f95-b58e-843c958840ac",
   "metadata": {
    "tags": []
   },
   "outputs": [],
   "source": [
    "!pip freeze | grep boto3"
   ]
  },
  {
   "cell_type": "markdown",
   "id": "0740af25-3bfb-4394-a68e-6d5e342fccbe",
   "metadata": {},
   "source": [
    "#### Load in environment variables to notebook"
   ]
  },
  {
   "cell_type": "code",
   "execution_count": null,
   "id": "4b5a72d5-8584-4b55-9d62-04feff651ab4",
   "metadata": {
    "tags": []
   },
   "outputs": [],
   "source": [
    "# Retrieve import path\n",
    "%store -r IMPORTS_PATH\n",
    "\n",
    "# Retrieve account info\n",
    "%store -r account_id\n",
    "%store -r region\n",
    "\n",
    "# Retrieve model lists\n",
    "%store -r agent_foundation_model"
   ]
  },
  {
   "cell_type": "markdown",
   "id": "8ef228e7-54c0-4925-8c06-6d172ab3286c",
   "metadata": {},
   "source": [
    "#### Retrieve imports environment variable and bring libraries into notebook"
   ]
  },
  {
   "cell_type": "code",
   "execution_count": null,
   "id": "ae4b0cf3-76bf-4287-9b40-cc14566ebf8b",
   "metadata": {
    "tags": []
   },
   "outputs": [],
   "source": [
    "%run $IMPORTS_PATH"
   ]
  },
  {
   "cell_type": "markdown",
   "id": "8c5ecfce-78c8-4721-a4e6-35a7745d8871",
   "metadata": {
    "tags": []
   },
   "source": [
    "# Prerequisites\n",
    "\n",
    "This notebook assumes that you have deployed the CloudFormation stack located at https://github.com/aws-samples/amazon-bedrock-agents-cancer-biomarker-discovery to your AWS account in workshop mode."
   ]
  },
  {
   "cell_type": "markdown",
   "id": "96053d0a-6dfd-4623-aea4-d7eaedc6dc63",
   "metadata": {
    "tags": []
   },
   "source": [
    "# Agent Creation\n",
    "In this section we create the sub-agent"
   ]
  },
  {
   "cell_type": "markdown",
   "id": "3e974c4f-200d-499a-ba94-70de02a88486",
   "metadata": {},
   "source": [
    "#### Define agent configuration below "
   ]
  },
  {
   "cell_type": "code",
   "execution_count": null,
   "id": "11e88b67-5f84-45be-90af-673c11730230",
   "metadata": {
    "tags": []
   },
   "outputs": [],
   "source": [
    "agent_name = \"Clinical-evidence-researcher\"\n",
    "agent_description = \"Research internal and external evidence\"\n",
    "agent_instruction = \"\"\"You are a medical research assistant AI specialized in summarizing internal and external \n",
    "evidence related to cancer biomarkers. Your primary task is to interpret user queries, gather internal and external \n",
    "evidence, and provide relevant medical insights based on the results. Use only the appropriate tools as required by \n",
    "the specific question. Follow these instructions carefully: 1. When querying PubMed: a. Summarize the findings of \n",
    "each relevant study with citations to the specific pubmed web link of the study b. The json output will include \n",
    "'Link', 'Title', 'Summary'. c. Always return the Title and Link (for example, 'https://pubmed.ncbi.nlm.nih.gov/') \n",
    "of each study in your response.  2. For internal evidence, make use of the knowledge base to retrieve relevant \n",
    "information. Always provide citations to specific content chunks. 3. When providing your response: \n",
    "a. Start with a brief summary of your understanding of the user's query. b. Explain the steps you're taking to \n",
    "address the query. Ask for clarifications from the user if required. c. Separate the responses generated from \n",
    "internal evidence (knowledge base) and external evidence (PubMed api).  d. Conclude with a concise summary of the \n",
    "findings and their potential implications for medical research.\"\"\""
   ]
  },
  {
   "cell_type": "markdown",
   "id": "3d2b94bc-1ed8-4542-9315-1494d76d4445",
   "metadata": {},
   "source": [
    "#### Instantiate agent with the desired configuration"
   ]
  },
  {
   "cell_type": "code",
   "execution_count": null,
   "id": "37eb6515-56ec-4bf5-afc1-99f303add381",
   "metadata": {
    "tags": []
   },
   "outputs": [],
   "source": [
    "agents = AgentsForAmazonBedrock()\n",
    "\n",
    "research_evidence_agent = agents.create_agent(\n",
    "    agent_name,\n",
    "    agent_description,\n",
    "    agent_instruction,\n",
    "    agent_foundation_model,\n",
    "    code_interpretation=False,\n",
    "    verbose=False\n",
    ")\n",
    "\n",
    "research_evidence_agent"
   ]
  },
  {
   "cell_type": "markdown",
   "id": "f8fe77f5-6e24-4bab-a192-480091e5bd09",
   "metadata": {},
   "source": [
    "#### Extract useful agent information"
   ]
  },
  {
   "cell_type": "code",
   "execution_count": null,
   "id": "1db8b112-ddc8-4a57-817a-528a20a72880",
   "metadata": {
    "tags": []
   },
   "outputs": [],
   "source": [
    "research_evidence_agent_id = research_evidence_agent[0]\n",
    "research_evidence_agent_arn = f\"arn:aws:bedrock:{region}:{account_id}:agent/{research_evidence_agent_id}\"\n",
    "\n",
    "research_evidence_agent_id, research_evidence_agent_arn"
   ]
  },
  {
   "cell_type": "markdown",
   "id": "73bdc8d3-f1c8-4bc7-bed6-6a427cbab79c",
   "metadata": {},
   "source": [
    "#### Associate Knowledge Base with agent and ensure that the Knowledge Base has been manually synced!"
   ]
  },
  {
   "cell_type": "code",
   "execution_count": null,
   "id": "bf385963-fbc8-41ef-9aac-cff168c620d0",
   "metadata": {
    "tags": []
   },
   "outputs": [],
   "source": [
    "bedrock_agent_client = boto3.client(\"bedrock-agent\", region)\n",
    "\n",
    "# Call the list_knowledge_bases method\n",
    "response = bedrock_agent_client.list_knowledge_bases()\n",
    "\n",
    "# Iterate through knowledge bases and find needed one\n",
    "for kb in response['knowledgeBaseSummaries']:\n",
    "    kb_name = kb['name']\n",
    "    ncbi_kb_id = None\n",
    "\n",
    "    if 'ncbiKnowledgebase' in kb_name:\n",
    "        ncbi_kb_id = response['knowledgeBaseSummaries'][0]['knowledgeBaseId']\n",
    "\n",
    "ncbi_kb_id"
   ]
  },
  {
   "cell_type": "code",
   "execution_count": null,
   "id": "cf4c193d-c404-4eef-a069-ef03aeb75eb8",
   "metadata": {
    "tags": []
   },
   "outputs": [],
   "source": [
    "agents.associate_kb_with_agent(\n",
    "    research_evidence_agent_id,\n",
    "    \"Literature evidence on Relationships between Molecular and Imaging Phenotypes with Prognostic Implications\", \n",
    "    ncbi_kb_id\n",
    ")"
   ]
  },
  {
   "cell_type": "markdown",
   "id": "e922d7b4-bbef-4462-bdfd-c40b8cbf2e9d",
   "metadata": {},
   "source": [
    "#### Define the API Schema needed for an ActionGroup"
   ]
  },
  {
   "cell_type": "code",
   "execution_count": null,
   "id": "491d747d-42a5-4ccd-a535-d8d10f60132b",
   "metadata": {
    "tags": []
   },
   "outputs": [],
   "source": [
    "api_schema_string = '''{\n",
    "  \"openapi\": \"3.0.0\",\n",
    "  \"info\": {\n",
    "    \"title\": \"fetch biomedical literature\",\n",
    "    \"version\": \"1.0.0\", \n",
    "    \"description\": \"PubMed API to help answer users question using abstracts from biomedical literature.\"\n",
    "  },\n",
    "  \"paths\": {\n",
    "    \"/query-pubmed\": {\n",
    "      \"post\": {\n",
    "        \"summary\": \"Query pubmed to relevant information from abstracts of biomedical articles.\",\n",
    "        \"description\": \"Query pubmed to relevant information from abstracts of biomedical articles. The PubMed API takes in the user query then returns the abstracts of top 5 relevant articles.\",\n",
    "        \"operationId\": \"query-pubmed\",\n",
    "        \"parameters\": [\n",
    "          {\n",
    "            \"name\": \"query\",\n",
    "            \"in\": \"query\",\n",
    "            \"description\": \"user query\",\n",
    "            \"required\": true,\n",
    "            \"schema\": {\n",
    "              \"type\": \"string\"\n",
    "            }\n",
    "          }\n",
    "        ],\n",
    "        \"responses\": {\n",
    "          \"200\": {\n",
    "            \"description\": \"Query pubmed to relevant information from abstracts of biomedical articles.\",\n",
    "            \"content\": {\n",
    "              \"application/json\": {\n",
    "                \"schema\": {\n",
    "                  \"type\": \"object\",\n",
    "                  \"properties\": {\n",
    "                    \"answer\": {\n",
    "                      \"type\": \"string\",\n",
    "                      \"description\": \"The response to user query with list of pubmed article abstracts.\"\n",
    "                    }\n",
    "                  }\n",
    "                }\n",
    "              }\n",
    "            }\n",
    "          }\n",
    "        }\n",
    "      }\n",
    "    }\n",
    "  }\n",
    "}'''"
   ]
  },
  {
   "cell_type": "code",
   "execution_count": null,
   "id": "a16e85b3-32d2-4b5d-a15b-a3002e860760",
   "metadata": {
    "tags": []
   },
   "outputs": [],
   "source": [
    "api_schema = {\"payload\": api_schema_string}"
   ]
  },
  {
   "cell_type": "markdown",
   "id": "7679e8d0-b9f8-48f4-87c1-dc7976a2ded4",
   "metadata": {},
   "source": [
    "#### Attach Lambda function and create ActionGroup"
   ]
  },
  {
   "cell_type": "code",
   "execution_count": null,
   "id": "40e64c59-8ed0-461f-a595-5bc2996a8166",
   "metadata": {
    "tags": []
   },
   "outputs": [],
   "source": [
    "# Define Lambda func. details\n",
    "research_evidence_lambda_function_name = \"PubMedQueryFunction\"\n",
    "research_evidence_lambda_function_arn = f\"arn:aws:lambda:{region}:{account_id}:function:{research_evidence_lambda_function_name}\"\n",
    "%store research_evidence_lambda_function_arn"
   ]
  },
  {
   "cell_type": "code",
   "execution_count": null,
   "id": "43f432af-cacd-4db7-bb4d-d2d2f0566644",
   "metadata": {
    "tags": []
   },
   "outputs": [],
   "source": [
    "agents.add_action_group_with_lambda(\n",
    "    agent_name=agent_name,\n",
    "    lambda_function_name=research_evidence_lambda_function_name,\n",
    "    source_code_file=research_evidence_lambda_function_arn,\n",
    "    agent_action_group_name=\"queryPubMed\",\n",
    "    agent_action_group_description=\"Actions for fetching biomedical literature from PubMed\",\n",
    "    api_schema=api_schema,\n",
    "    verbose=True\n",
    ")"
   ]
  },
  {
   "cell_type": "markdown",
   "id": "db8799ab-77a8-4431-8edd-d1c1a7015c7c",
   "metadata": {},
   "source": [
    "#### Add resource based policy to Lambda function to allow agent to invoke"
   ]
  },
  {
   "cell_type": "code",
   "execution_count": null,
   "id": "f12947d7-2652-4664-b4e2-1712d4baf366",
   "metadata": {
    "tags": []
   },
   "outputs": [],
   "source": [
    "lambda_client = boto3.client('lambda', region)\n",
    "\n",
    "# Define the resource policy statement\n",
    "policy_statement = {\n",
    "    \"Sid\": \"AllowBedrockAgentAccess\",\n",
    "    \"Effect\": \"Allow\",\n",
    "    \"Principal\": {\n",
    "        \"Service\": \"bedrock.amazonaws.com\"\n",
    "    },\n",
    "    \"Action\": \"lambda:InvokeFunction\",\n",
    "    \"Resource\": research_evidence_lambda_function_arn,\n",
    "    \"Condition\": {\n",
    "        \"ArnEquals\": {\n",
    "            \"aws:SourceArn\": research_evidence_agent_arn\n",
    "        }\n",
    "    }\n",
    "}\n",
    "\n",
    "try:\n",
    "    # Get the current policy\n",
    "    response = lambda_client.get_policy(FunctionName=research_evidence_lambda_function_arn)\n",
    "    current_policy = json.loads(response['Policy'])\n",
    "    \n",
    "    # Add the new statement to the existing policy\n",
    "    current_policy['Statement'].append(policy_statement)\n",
    "    \n",
    "except lambda_client.exceptions.ResourceNotFoundException:\n",
    "    # If there's no existing policy, create a new one\n",
    "    current_policy = {\n",
    "        \"Version\": \"2012-10-17\",\n",
    "        \"Statement\": [policy_statement]\n",
    "    }\n",
    "\n",
    "# Convert the policy to JSON string\n",
    "updated_policy = json.dumps(current_policy)\n",
    "\n",
    "# Add or update the resource policy\n",
    "response = lambda_client.add_permission(\n",
    "    FunctionName=research_evidence_lambda_function_arn,\n",
    "    StatementId=\"AllowResearchEvidenceAgentAccess\",\n",
    "    Action=\"lambda:InvokeFunction\",\n",
    "    Principal=\"bedrock.amazonaws.com\",\n",
    "    SourceArn=research_evidence_agent_arn\n",
    ")\n",
    "\n",
    "print(\"Resource policy added successfully.\")\n",
    "print(\"Response:\", response)"
   ]
  },
  {
   "cell_type": "markdown",
   "id": "7918a1b7-9dbe-4345-a1a7-870d962bce17",
   "metadata": {},
   "source": [
    "#### Invoke Research Evidence Agent Test Alias to see that it answers question properly"
   ]
  },
  {
   "cell_type": "code",
   "execution_count": null,
   "id": "1f1dbd7b-b9c2-427b-b7e5-23961e64d877",
   "metadata": {
    "tags": []
   },
   "outputs": [],
   "source": [
    "bedrock_agent_runtime_client = boto3.client(\"bedrock-agent-runtime\", region)\n",
    "\n",
    "session_id:str = str(uuid.uuid1())\n",
    "\n",
    "test_query = \"Can you search PubMed for evidence around the effects of biomarker use in oncology on clinical trial failure risk\"\n",
    "response = bedrock_agent_runtime_client.invoke_agent(\n",
    "      inputText=test_query,\n",
    "      agentId=research_evidence_agent_id,\n",
    "      agentAliasId=\"TSTALIASID\", \n",
    "      sessionId=session_id,\n",
    "      enableTrace=True, \n",
    "      endSession=False,\n",
    "      sessionState={}\n",
    ")\n",
    "\n",
    "print(\"Request sent to Agent:\\n{}\".format(response))\n",
    "print(\"====================\")\n",
    "print(\"Agent processing query now\")\n",
    "print(\"====================\")\n",
    "\n",
    "# Initialize an empty string to store the answer\n",
    "answer = \"\"\n",
    "\n",
    "# Iterate through the event stream\n",
    "for event in response['completion']:\n",
    "    # Check if the event is a 'chunk' event\n",
    "    if 'chunk' in event:\n",
    "        chunk_obj = event['chunk']\n",
    "        if 'bytes' in chunk_obj:\n",
    "            # Decode the bytes and append to the answer\n",
    "            chunk_data = chunk_obj['bytes'].decode('utf-8')\n",
    "            answer += chunk_data\n",
    "\n",
    "# Now 'answer' contains the full response from the agent\n",
    "print(\"Agent Answer: {}\".format(answer))\n",
    "print(\"====================\")"
   ]
  },
  {
   "cell_type": "markdown",
   "id": "2c3cb851-c2f5-4883-9a9b-151cbd35daef",
   "metadata": {},
   "source": [
    "#### Now that agent has been tested via direct invoke, prepare it by creating an alias"
   ]
  },
  {
   "cell_type": "code",
   "execution_count": null,
   "id": "77c953ca-b104-4604-9971-bc89c3b1f464",
   "metadata": {},
   "outputs": [],
   "source": [
    "research_evidence_agent_alias_id, research_evidence_agent_alias_arn = agents.create_agent_alias(\n",
    "    research_evidence_agent[0], 'v1'\n",
    ")\n",
    "\n",
    "%store research_evidence_agent_alias_arn\n",
    "research_evidence_agent_alias_id, research_evidence_agent_alias_arn"
   ]
  }
 ],
 "metadata": {
  "kernelspec": {
   "display_name": "conda_python3",
   "language": "python",
   "name": "conda_python3"
  },
  "language_info": {
   "codemirror_mode": {
    "name": "ipython",
    "version": 3
   },
   "file_extension": ".py",
   "mimetype": "text/x-python",
   "name": "python",
   "nbconvert_exporter": "python",
   "pygments_lexer": "ipython3",
   "version": "3.10.16"
  }
 },
 "nbformat": 4,
 "nbformat_minor": 5
}
