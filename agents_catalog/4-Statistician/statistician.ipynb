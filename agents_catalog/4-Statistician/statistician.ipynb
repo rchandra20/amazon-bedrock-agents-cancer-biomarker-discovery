{
 "cells": [
  {
   "cell_type": "markdown",
   "id": "24cee39a-a77d-4493-a532-56935aa07fd8",
   "metadata": {
    "tags": []
   },
   "source": [
    "# Statistician Agent\n",
    "In this notebook we create the statistician sub-agent"
   ]
  },
  {
   "cell_type": "markdown",
   "id": "3c401dd7-dd66-44cd-a02a-fcdd95d98605",
   "metadata": {},
   "source": [
    "#### Ensure the latest version of boto3 is shown below"
   ]
  },
  {
   "cell_type": "code",
   "execution_count": null,
   "id": "73745fd0-9df8-4f95-b58e-843c958840ac",
   "metadata": {
    "tags": []
   },
   "outputs": [],
   "source": [
    "!pip freeze | grep boto3"
   ]
  },
  {
   "cell_type": "markdown",
   "id": "0740af25-3bfb-4394-a68e-6d5e342fccbe",
   "metadata": {},
   "source": [
    "#### Load in environment variables to notebook"
   ]
  },
  {
   "cell_type": "code",
   "execution_count": null,
   "id": "4b5a72d5-8584-4b55-9d62-04feff651ab4",
   "metadata": {
    "tags": []
   },
   "outputs": [],
   "source": [
    "# Retrieve import path\n",
    "%store -r IMPORTS_PATH\n",
    "\n",
    "# Retrieve account info\n",
    "%store -r account_id\n",
    "%store -r region\n",
    "\n",
    "# Retrieve model lists\n",
    "%store -r agent_foundation_model"
   ]
  },
  {
   "cell_type": "markdown",
   "id": "8ef228e7-54c0-4925-8c06-6d172ab3286c",
   "metadata": {},
   "source": [
    "#### Retrieve imports environment variable and bring libraries into notebook"
   ]
  },
  {
   "cell_type": "code",
   "execution_count": null,
   "id": "ae4b0cf3-76bf-4287-9b40-cc14566ebf8b",
   "metadata": {
    "tags": []
   },
   "outputs": [],
   "source": [
    "%run $IMPORTS_PATH"
   ]
  },
  {
   "cell_type": "markdown",
   "id": "8c5ecfce-78c8-4721-a4e6-35a7745d8871",
   "metadata": {
    "tags": []
   },
   "source": [
    "# Prerequisites\n",
    "\n",
    "This notebook assumes that you have deployed the CloudFormation stack located at https://github.com/aws-samples/amazon-bedrock-agents-cancer-biomarker-discovery to your AWS account in workshop mode."
   ]
  },
  {
   "cell_type": "markdown",
   "id": "96053d0a-6dfd-4623-aea4-d7eaedc6dc63",
   "metadata": {
    "tags": []
   },
   "source": [
    "# Agent Creation\n",
    "In this section we create the sub-agent"
   ]
  },
  {
   "cell_type": "markdown",
   "id": "3e974c4f-200d-499a-ba94-70de02a88486",
   "metadata": {},
   "source": [
    "#### Define agent configuration below "
   ]
  },
  {
   "cell_type": "code",
   "execution_count": null,
   "id": "11e88b67-5f84-45be-90af-673c11730230",
   "metadata": {
    "tags": []
   },
   "outputs": [],
   "source": [
    "agent_name = 'Statistician'\n",
    "agent_description = \"scientific analysis for survival analysis\"\n",
    "agent_instruction = \"\"\"You are a medical research assistant AI specialized in survival analysis with biomarkers. \n",
    "Your primary job is to interpret user queries, run scientific analysis tasks, and provide relevant medical insights \n",
    "with available visualization tools. Use only the appropriate tools as required by the specific question. \n",
    "Follow these instructions carefully: 1. If the user query requires a Kaplan-Meier chart: \n",
    "a. Map survival status as 0 for Alive and 1 for Dead for the event parameter. \n",
    "b. Use survival duration as the duration parameter. c. Use the /group_survival_data tool to create baseline and \n",
    "condition group based on expression value threshold provided by the user. \n",
    "2. If a survival regression analysis is needed: a. You need access to all records with columns start with survival \n",
    "status as first column, then survival duration, and the required biomarkers. \n",
    "b. Use the /fit_survival_regression tool to identify the best-performing biomarker based on the p-value summary. \n",
    "c. Ask for S3 data location if not provided, do not assume S3 bucket names or object names. \n",
    "3. When you need to create a bar chart or plot: a. Always pass x_values and y_values in Array type to the function. \n",
    "If the user says x values are apple,egg and y values are 3,4 or as [apple,egg] and [3,4] pass their value as \n",
    "['apple', 'banana'] and [3,4] 4. When providing your response: a. Start with a brief summary of your \n",
    "understanding of the user's query. b. Explain the steps you're taking to address the query. \n",
    "Ask for clarifications from the user if required. c. If you generate any charts or perform statistical analyses, \n",
    "explain their significance in the context of the user's query. d. Conclude with a concise summary of the findings\n",
    "and their potential implications for medical research. e. Make sure to explain any medical or statistical concepts \n",
    "in a clear, accessible manner.\"\"\" "
   ]
  },
  {
   "cell_type": "markdown",
   "id": "3d2b94bc-1ed8-4542-9315-1494d76d4445",
   "metadata": {},
   "source": [
    "#### Instantiate agent with the desired configuration"
   ]
  },
  {
   "cell_type": "code",
   "execution_count": null,
   "id": "37eb6515-56ec-4bf5-afc1-99f303add381",
   "metadata": {
    "tags": []
   },
   "outputs": [],
   "source": [
    "agents = AgentsForAmazonBedrock()\n",
    "\n",
    "scientific_analysis_agent = agents.create_agent(\n",
    "    agent_name,\n",
    "    agent_description,\n",
    "    agent_instruction,\n",
    "    agent_foundation_model,\n",
    "    code_interpretation=False,\n",
    "    verbose=False\n",
    ")\n",
    "\n",
    "scientific_analysis_agent"
   ]
  },
  {
   "cell_type": "markdown",
   "id": "f8fe77f5-6e24-4bab-a192-480091e5bd09",
   "metadata": {},
   "source": [
    "#### Extract useful agent information"
   ]
  },
  {
   "cell_type": "code",
   "execution_count": null,
   "id": "1db8b112-ddc8-4a57-817a-528a20a72880",
   "metadata": {
    "tags": []
   },
   "outputs": [],
   "source": [
    "scientific_analysis_agent_id = scientific_analysis_agent[0]\n",
    "scientific_analysis_agent_arn = f\"arn:aws:bedrock:{region}:{account_id}:agent/{scientific_analysis_agent_id}\"\n",
    "\n",
    "scientific_analysis_agent_id, scientific_analysis_agent_arn"
   ]
  },
  {
   "cell_type": "markdown",
   "id": "73bdc8d3-f1c8-4bc7-bed6-6a427cbab79c",
   "metadata": {},
   "source": [
    "#### Define functions for first ActionGroup"
   ]
  },
  {
   "cell_type": "code",
   "execution_count": null,
   "id": "76046f04-521c-47e3-b045-34048ca89d1d",
   "metadata": {
    "tags": []
   },
   "outputs": [],
   "source": [
    "function_defs = [\n",
    "    {\n",
    "      \"name\": \"bar_chart\",\n",
    "      \"description\": \"create a bar chart\",\n",
    "      \"parameters\": {\n",
    "        \"title\": {\n",
    "          \"description\": \"title of the bar chart\",\n",
    "          \"required\": True,\n",
    "          \"type\": \"string\"\n",
    "        },\n",
    "        \"x_label\": {\n",
    "          \"description\": \"title of the x axis\",\n",
    "          \"required\": True,\n",
    "          \"type\": \"string\"\n",
    "        },\n",
    "        \"x_values\": {\n",
    "          \"description\": \"values for the x a xis\",\n",
    "          \"required\": True,\n",
    "          \"type\": \"array\"\n",
    "        },\n",
    "        \"y_label\": {\n",
    "          \"description\": \"title of the y axis\",\n",
    "          \"required\": True,\n",
    "          \"type\": \"string\"\n",
    "        },\n",
    "        \"y_values\": {\n",
    "          \"description\": \"values for the y axis\",\n",
    "          \"required\": True,\n",
    "          \"type\": \"array\"\n",
    "        }\n",
    "      },\n",
    "      \"requireConfirmation\": \"DISABLED\"\n",
    "    },\n",
    "]"
   ]
  },
  {
   "cell_type": "markdown",
   "id": "9967ff7b-6304-4839-a9f2-73b92b6fe06a",
   "metadata": {
    "tags": []
   },
   "source": [
    "#### Attach Lambda function and create first ActionGroup for agent\n",
    "Note: This uses the default Lambda function name \"MatPlotBarChartLambda\", this could be different in your account so double-check that this function exists and if not change the lambda_function_name in the code below"
   ]
  },
  {
   "cell_type": "code",
   "execution_count": null,
   "id": "a16e85b3-32d2-4b5d-a15b-a3002e860760",
   "metadata": {
    "tags": []
   },
   "outputs": [],
   "source": [
    "scientific_analysis_lambda_function_name_1 = \"MatPlotBarChartLambda\"  # Change if different in your acccount\n",
    "scientific_analysis_lambda_function_arn_1 = f\"arn:aws:lambda:{region}:{account_id}:function:{scientific_analysis_lambda_function_name_1}\"\n",
    "%store scientific_analysis_lambda_function_arn_1"
   ]
  },
  {
   "cell_type": "code",
   "execution_count": null,
   "id": "ea9f457e-2074-44e7-8ac5-03b193454cd1",
   "metadata": {
    "tags": []
   },
   "outputs": [],
   "source": [
    "agents.add_action_group_with_lambda(\n",
    "    agent_name=agent_name,\n",
    "    lambda_function_name=scientific_analysis_lambda_function_name_1,\n",
    "    source_code_file=scientific_analysis_lambda_function_arn_1,\n",
    "    agent_action_group_name=\"matplotbarchart\",\n",
    "    agent_action_group_description=\"Creates a bar chart from the given input values\",\n",
    "    agent_functions=function_defs,\n",
    "    verbose=True\n",
    ")"
   ]
  },
  {
   "cell_type": "markdown",
   "id": "db8799ab-77a8-4431-8edd-d1c1a7015c7c",
   "metadata": {},
   "source": [
    "#### Add resource based policy to Lambda function to allow agent to invoke"
   ]
  },
  {
   "cell_type": "code",
   "execution_count": null,
   "id": "f12947d7-2652-4664-b4e2-1712d4baf366",
   "metadata": {
    "tags": []
   },
   "outputs": [],
   "source": [
    "lambda_client = boto3.client('lambda', region)\n",
    "\n",
    "# Define the resource policy statement\n",
    "policy_statement = {\n",
    "    \"Sid\": \"AllowBedrockAgentAccess\",\n",
    "    \"Effect\": \"Allow\",\n",
    "    \"Principal\": {\n",
    "        \"Service\": \"bedrock.amazonaws.com\"\n",
    "    },\n",
    "    \"Action\": \"lambda:InvokeFunction\",\n",
    "    \"Resource\": scientific_analysis_lambda_function_arn_1,\n",
    "    \"Condition\": {\n",
    "        \"ArnEquals\": {\n",
    "            \"aws:SourceArn\": scientific_analysis_agent_arn\n",
    "        }\n",
    "    }\n",
    "}\n",
    "\n",
    "try:\n",
    "    # Get the current policy\n",
    "    response = lambda_client.get_policy(FunctionName=scientific_analysis_lambda_function_arn_1)\n",
    "    current_policy = json.loads(response['Policy'])\n",
    "    \n",
    "    # Add the new statement to the existing policy\n",
    "    current_policy['Statement'].append(policy_statement)\n",
    "    \n",
    "except lambda_client.exceptions.ResourceNotFoundException:\n",
    "    # If there's no existing policy, create a new one\n",
    "    current_policy = {\n",
    "        \"Version\": \"2012-10-17\",\n",
    "        \"Statement\": [policy_statement]\n",
    "    }\n",
    "\n",
    "# Convert the policy to JSON string\n",
    "updated_policy = json.dumps(current_policy)\n",
    "\n",
    "# Add or update the resource policy\n",
    "response = lambda_client.add_permission(\n",
    "    FunctionName=scientific_analysis_lambda_function_arn_1,\n",
    "    StatementId=\"AllowScientificAnalysisAgentAccess\",\n",
    "    Action=\"lambda:InvokeFunction\",\n",
    "    Principal=\"bedrock.amazonaws.com\",\n",
    "    SourceArn=scientific_analysis_agent_arn\n",
    ")\n",
    "\n",
    "print(\"Resource policy added successfully.\")\n",
    "print(\"Response:\", response)"
   ]
  },
  {
   "cell_type": "markdown",
   "id": "0576eb14-50c2-4ea2-ace6-12ff3a6ff83a",
   "metadata": {
    "tags": []
   },
   "source": [
    "#### Define functions for second ActionGroup"
   ]
  },
  {
   "cell_type": "code",
   "execution_count": null,
   "id": "ad494e1e-b3da-4e5f-a0e6-955da4bc8a7a",
   "metadata": {
    "tags": []
   },
   "outputs": [],
   "source": [
    "function_defs = [\n",
    "    {\n",
    "      \"name\": \"plot_kaplan_meier\",\n",
    "      \"description\": \"Plots a Kaplan-Meier survival chart\",\n",
    "      \"parameters\": {\n",
    "        \"biomarker_name\": {\n",
    "          \"description\": \"name of the biomarker\",\n",
    "          \"required\": True,\n",
    "          \"type\": \"string\"\n",
    "        },\n",
    "        \"duration_baseline\": {\n",
    "          \"description\": \"duration in number of days for baseline\",\n",
    "          \"required\": True,\n",
    "          \"type\": \"array\"\n",
    "        },\n",
    "        \"duration_condition\": {\n",
    "          \"description\": \"duration in number of days for condition\",\n",
    "          \"required\": True,\n",
    "          \"type\": \"array\"\n",
    "        },\n",
    "        \"event_baseline\": {\n",
    "          \"description\": \"survival event for baseline\",\n",
    "          \"required\": True,\n",
    "          \"type\": \"array\"\n",
    "        },\n",
    "        \"event_condition\": {\n",
    "          \"description\": \"survival event for condition\",\n",
    "          \"required\": True,\n",
    "          \"type\": \"array\"\n",
    "        }\n",
    "      },\n",
    "      \"requireConfirmation\": \"DISABLED\"\n",
    "    },\n",
    "    {\n",
    "      \"name\": \"fit_survival_regression\",\n",
    "      \"description\": \"Fit a survival regression model with data in a S3 object\",\n",
    "      \"parameters\": {\n",
    "        \"bucket\": {\n",
    "          \"description\": \"s3 bucket where the data is stored by the database query tool\",\n",
    "          \"required\": True,\n",
    "          \"type\": \"string\"\n",
    "        },\n",
    "        \"key\": {\n",
    "          \"description\": \"json file name that is located in the s3 bucket and contains the data for fitting the model\",\n",
    "          \"required\": True,\n",
    "          \"type\": \"string\"\n",
    "        }\n",
    "      },\n",
    "      \"requireConfirmation\": \"DISABLED\"\n",
    "    }\n",
    "]"
   ]
  },
  {
   "cell_type": "markdown",
   "id": "ff3787d9-44a0-4635-8689-ba1a1e713397",
   "metadata": {},
   "source": [
    "#### Attach Lambda function and create second Action Group for agent\n",
    "Note: This uses the default Lambda function name \"ScientificPlotLambda\", this could be different in your account so double-check that this function exists and if not change the lambda_function_name in the code below"
   ]
  },
  {
   "cell_type": "code",
   "execution_count": null,
   "id": "1ea4399b-79ce-4cf9-9ccc-aacf7c15988e",
   "metadata": {
    "tags": []
   },
   "outputs": [],
   "source": [
    "scientific_analysis_lambda_function_name_2 = \"ScientificPlotLambda\"  # Change if different in your account\n",
    "scientific_analysis_lambda_function_arn_2 = f\"arn:aws:lambda:{region}:{account_id}:function:{scientific_analysis_lambda_function_name_2}\"\n",
    "%store scientific_analysis_lambda_function_arn_2"
   ]
  },
  {
   "cell_type": "code",
   "execution_count": null,
   "id": "915ff48a-63b7-401b-8a83-70a075b49780",
   "metadata": {
    "tags": []
   },
   "outputs": [],
   "source": [
    "agents.add_action_group_with_lambda(\n",
    "    agent_name=agent_name,\n",
    "    lambda_function_name=scientific_analysis_lambda_function_name_2,\n",
    "    source_code_file=scientific_analysis_lambda_function_arn_2,\n",
    "    agent_action_group_name=\"scientificAnalysisActionGroup\",\n",
    "    agent_action_group_description=\"Actions for scientific analysis with lifelines library\",\n",
    "    agent_functions=function_defs,\n",
    "    verbose=True\n",
    ")"
   ]
  },
  {
   "cell_type": "markdown",
   "id": "b6c461f3-8bc5-4ba9-895f-e22ff66eb79c",
   "metadata": {},
   "source": [
    "#### Add resource based policy to Lambda function to allow agent to invoke"
   ]
  },
  {
   "cell_type": "code",
   "execution_count": null,
   "id": "491fa8e6-b59e-4153-9109-eb7a996308c9",
   "metadata": {
    "tags": []
   },
   "outputs": [],
   "source": [
    "# Define the resource policy statement\n",
    "policy_statement = {\n",
    "    \"Sid\": \"AllowBedrockAgentAccess\",\n",
    "    \"Effect\": \"Allow\",\n",
    "    \"Principal\": {\n",
    "        \"Service\": \"bedrock.amazonaws.com\"\n",
    "    },\n",
    "    \"Action\": \"lambda:InvokeFunction\",\n",
    "    \"Resource\": scientific_analysis_lambda_function_arn_2,\n",
    "    \"Condition\": {\n",
    "        \"ArnEquals\": {\n",
    "            \"aws:SourceArn\": scientific_analysis_agent_arn\n",
    "        }\n",
    "    }\n",
    "}\n",
    "\n",
    "try:\n",
    "    # Get the current policy\n",
    "    response = lambda_client.get_policy(FunctionName=scientific_analysis_lambda_function_arn_2)\n",
    "    current_policy = json.loads(response['Policy'])\n",
    "    \n",
    "    # Add the new statement to the existing policy\n",
    "    current_policy['Statement'].append(policy_statement)\n",
    "    \n",
    "except lambda_client.exceptions.ResourceNotFoundException:\n",
    "    # If there's no existing policy, create a new one\n",
    "    current_policy = {\n",
    "        \"Version\": \"2012-10-17\",\n",
    "        \"Statement\": [policy_statement]\n",
    "    }\n",
    "\n",
    "# Convert the policy to JSON string\n",
    "updated_policy = json.dumps(current_policy)\n",
    "\n",
    "# Add or update the resource policy\n",
    "response = lambda_client.add_permission(\n",
    "    FunctionName=scientific_analysis_lambda_function_arn_2,\n",
    "    StatementId=\"AllowScientificAnalysisAgentAccess\",\n",
    "    Action=\"lambda:InvokeFunction\",\n",
    "    Principal=\"bedrock.amazonaws.com\",\n",
    "    SourceArn=scientific_analysis_agent_arn\n",
    ")\n",
    "\n",
    "print(\"Resource policy added successfully.\")\n",
    "print(\"Response:\", response)"
   ]
  },
  {
   "cell_type": "markdown",
   "id": "7918a1b7-9dbe-4345-a1a7-870d962bce17",
   "metadata": {},
   "source": [
    "#### Invoke Scientific Analysis Agent Test Alias to see that it answers question properly\n",
    "Note: This agent needs a supervisor agent to properly answer some questions"
   ]
  },
  {
   "cell_type": "code",
   "execution_count": null,
   "id": "1f1dbd7b-b9c2-427b-b7e5-23961e64d877",
   "metadata": {
    "tags": []
   },
   "outputs": [],
   "source": [
    "bedrock_agent_runtime_client = boto3.client(\"bedrock-agent-runtime\", region)\n",
    "\n",
    "session_id:str = str(uuid.uuid1())\n",
    "\n",
    "test_query = \"What is the best gene biomarker (lowest p value) with overall survival for patients that have undergone chemotherapy?\"\n",
    "\n",
    "response = bedrock_agent_runtime_client.invoke_agent(\n",
    "      inputText=test_query,\n",
    "      agentId=scientific_analysis_agent_id,\n",
    "      agentAliasId=\"TSTALIASID\", \n",
    "      sessionId=session_id,\n",
    "      enableTrace=True, \n",
    "      endSession=False,\n",
    "      sessionState={}\n",
    ")\n",
    "\n",
    "print(\"Request sent to Agent:\\n{}\".format(response))\n",
    "print(\"====================\")\n",
    "print(\"Agent processing query now\")\n",
    "print(\"====================\")\n",
    "\n",
    "# Initialize an empty string to store the answer\n",
    "answer = \"\"\n",
    "\n",
    "# Iterate through the event stream\n",
    "for event in response['completion']:\n",
    "    # Check if the event is a 'chunk' event\n",
    "    if 'chunk' in event:\n",
    "        chunk_obj = event['chunk']\n",
    "        if 'bytes' in chunk_obj:\n",
    "            # Decode the bytes and append to the answer\n",
    "            chunk_data = chunk_obj['bytes'].decode('utf-8')\n",
    "            answer += chunk_data\n",
    "\n",
    "# Now 'answer' contains the full response from the agent\n",
    "print(\"Agent Answer: {}\".format(answer))\n",
    "print(\"====================\")"
   ]
  },
  {
   "cell_type": "markdown",
   "id": "2c3cb851-c2f5-4883-9a9b-151cbd35daef",
   "metadata": {},
   "source": [
    "#### Now that agent has been tested via direct invoke, prepare it by creating an alias"
   ]
  },
  {
   "cell_type": "code",
   "execution_count": null,
   "id": "77c953ca-b104-4604-9971-bc89c3b1f464",
   "metadata": {},
   "outputs": [],
   "source": [
    "scientific_analysis_agent_alias_id, scientific_analysis_agent_alias_arn = agents.create_agent_alias(\n",
    "    scientific_analysis_agent[0], 'v1'\n",
    ")\n",
    "\n",
    "%store scientific_analysis_agent_alias_arn\n",
    "scientific_analysis_agent_alias_id, scientific_analysis_agent_alias_arn"
   ]
  }
 ],
 "metadata": {
  "kernelspec": {
   "display_name": "conda_python3",
   "language": "python",
   "name": "conda_python3"
  },
  "language_info": {
   "codemirror_mode": {
    "name": "ipython",
    "version": 3
   },
   "file_extension": ".py",
   "mimetype": "text/x-python",
   "name": "python",
   "nbconvert_exporter": "python",
   "pygments_lexer": "ipython3",
   "version": "3.10.16"
  }
 },
 "nbformat": 4,
 "nbformat_minor": 5
}
