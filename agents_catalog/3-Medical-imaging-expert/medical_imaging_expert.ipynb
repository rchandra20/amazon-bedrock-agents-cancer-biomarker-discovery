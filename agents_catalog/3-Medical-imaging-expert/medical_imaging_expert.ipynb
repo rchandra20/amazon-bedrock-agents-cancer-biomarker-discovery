{
 "cells": [
  {
   "cell_type": "markdown",
   "id": "24cee39a-a77d-4493-a532-56935aa07fd8",
   "metadata": {
    "tags": []
   },
   "source": [
    "# Medical Imaging Expert Agent\n",
    "In this notebook we create the medical imaging expert sub-agent"
   ]
  },
  {
   "cell_type": "markdown",
   "id": "3c401dd7-dd66-44cd-a02a-fcdd95d98605",
   "metadata": {},
   "source": [
    "#### Ensure the latest version of boto3 is shown below"
   ]
  },
  {
   "cell_type": "code",
   "execution_count": null,
   "id": "73745fd0-9df8-4f95-b58e-843c958840ac",
   "metadata": {
    "tags": []
   },
   "outputs": [],
   "source": [
    "!pip freeze | grep boto3"
   ]
  },
  {
   "cell_type": "markdown",
   "id": "0740af25-3bfb-4394-a68e-6d5e342fccbe",
   "metadata": {},
   "source": [
    "#### Load in environment variables to notebook"
   ]
  },
  {
   "cell_type": "code",
   "execution_count": null,
   "id": "4b5a72d5-8584-4b55-9d62-04feff651ab4",
   "metadata": {
    "tags": []
   },
   "outputs": [],
   "source": [
    "# Retrieve import path\n",
    "%store -r IMPORTS_PATH\n",
    "\n",
    "# Retrieve account info\n",
    "%store -r account_id\n",
    "%store -r region\n",
    "\n",
    "# Retrieve model lists\n",
    "%store -r agent_foundation_model"
   ]
  },
  {
   "cell_type": "markdown",
   "id": "8ef228e7-54c0-4925-8c06-6d172ab3286c",
   "metadata": {},
   "source": [
    "#### Retrieve imports environment variable and bring libraries into notebook"
   ]
  },
  {
   "cell_type": "code",
   "execution_count": null,
   "id": "ae4b0cf3-76bf-4287-9b40-cc14566ebf8b",
   "metadata": {
    "tags": []
   },
   "outputs": [],
   "source": [
    "%run $IMPORTS_PATH"
   ]
  },
  {
   "cell_type": "markdown",
   "id": "8c5ecfce-78c8-4721-a4e6-35a7745d8871",
   "metadata": {
    "tags": []
   },
   "source": [
    "# Prerequisites\n",
    "\n",
    "This notebook assumes that you have deployed the CloudFormation stack located at https://github.com/aws-samples/amazon-bedrock-agents-cancer-biomarker-discovery to your AWS account in workshop mode."
   ]
  },
  {
   "cell_type": "markdown",
   "id": "96053d0a-6dfd-4623-aea4-d7eaedc6dc63",
   "metadata": {
    "tags": []
   },
   "source": [
    "# Agent Creation\n",
    "In this section we create the sub-agent"
   ]
  },
  {
   "cell_type": "markdown",
   "id": "3e974c4f-200d-499a-ba94-70de02a88486",
   "metadata": {},
   "source": [
    "#### Define agent configuration below "
   ]
  },
  {
   "cell_type": "code",
   "execution_count": null,
   "id": "11e88b67-5f84-45be-90af-673c11730230",
   "metadata": {
    "tags": []
   },
   "outputs": [],
   "source": [
    "agent_name = 'Medical-imaging-expert'\n",
    "agent_description = \"CT scan analysis\"\n",
    "agent_instruction = \"\"\"You are a medical research assistant AI specialized in processing medical imaging scans of \n",
    "patients. Your primary task is to create medical imaging jobs, or provide relevant medical insights after the \n",
    "jobs have completed execution. Use only the appropriate tools as required by the specific question. Follow these \n",
    "instructions carefully: 1. For computed tomographic (CT) lung imaging biomarker analysis: a. Identify the patient \n",
    "subject ID(s) based on the conversation. b. Use the compute_imaging_biomarker tool to trigger the long-running job,\n",
    "passing the subject ID(s) as an array of strings (for example, [\"R01-043\", \"R01-93\"]). c. Only if specifically asked \n",
    "for an analysis, use the analyze_imaging_biomarker tool to process the results from the previous job. \n",
    ". When providing your response: a. Start with a brief summary of your understanding of the user's query. \n",
    "b. Explain the steps you're taking to address the query. Ask for clarifications from the user if required. \n",
    "c. Present the results of the medical imaging jobs if complete.\"\"\" "
   ]
  },
  {
   "cell_type": "markdown",
   "id": "3d2b94bc-1ed8-4542-9315-1494d76d4445",
   "metadata": {},
   "source": [
    "#### Instantiate agent with the desired configuration"
   ]
  },
  {
   "cell_type": "code",
   "execution_count": null,
   "id": "37eb6515-56ec-4bf5-afc1-99f303add381",
   "metadata": {
    "tags": []
   },
   "outputs": [],
   "source": [
    "agents = AgentsForAmazonBedrock()\n",
    "\n",
    "medical_imaging_agent = agents.create_agent(\n",
    "    agent_name,\n",
    "    agent_description,\n",
    "    agent_instruction,\n",
    "    agent_foundation_model,\n",
    "    code_interpretation=False,\n",
    "    verbose=False\n",
    ")\n",
    "\n",
    "medical_imaging_agent"
   ]
  },
  {
   "cell_type": "markdown",
   "id": "f8fe77f5-6e24-4bab-a192-480091e5bd09",
   "metadata": {},
   "source": [
    "#### Extract useful agent information"
   ]
  },
  {
   "cell_type": "code",
   "execution_count": null,
   "id": "1db8b112-ddc8-4a57-817a-528a20a72880",
   "metadata": {
    "tags": []
   },
   "outputs": [],
   "source": [
    "medical_imaging_agent_id = medical_imaging_agent[0]\n",
    "medical_imaging_agent_arn = f\"arn:aws:bedrock:{region}:{account_id}:agent/{medical_imaging_agent_id}\"\n",
    "\n",
    "medical_imaging_agent_id, medical_imaging_agent_arn"
   ]
  },
  {
   "cell_type": "markdown",
   "id": "e922d7b4-bbef-4462-bdfd-c40b8cbf2e9d",
   "metadata": {},
   "source": [
    "#### Define function details for ActionGroup"
   ]
  },
  {
   "cell_type": "code",
   "execution_count": null,
   "id": "491d747d-42a5-4ccd-a535-d8d10f60132b",
   "metadata": {
    "tags": []
   },
   "outputs": [],
   "source": [
    "function_defs = [\n",
    "    {\n",
    "      \"name\": \"compute_imaging_biomarker\",\n",
    "      \"description\": \"compute the imaging biomarker features from lung CT scans within the tumor for a list of patient subject IDs\",\n",
    "      \"parameters\": {\n",
    "        \"subject_id\": {\n",
    "          \"description\": \"an array of strings representing patient subject IDs, example ['R01-222', 'R01-333']\",\n",
    "          \"required\": True,\n",
    "          \"type\": \"array\"\n",
    "        }\n",
    "      },\n",
    "      \"requireConfirmation\": \"DISABLED\"\n",
    "    },\n",
    "    {\n",
    "      \"name\": \"analyze_imaging_biomarker\",\n",
    "      \"description\": \"analyze the result imaging biomarker features from lung CT scans within the tumor for a list of patient subject ID\",\n",
    "      \"parameters\": {\n",
    "        \"subject_id\": {\n",
    "          \"description\": \"an array of strings representing patient subject IDs, example ['R01-222', 'R01-333']\",\n",
    "          \"required\": True,\n",
    "          \"type\": \"array\"\n",
    "        }\n",
    "      },\n",
    "      \"requireConfirmation\": \"DISABLED\"\n",
    "    }\n",
    "]"
   ]
  },
  {
   "cell_type": "markdown",
   "id": "7679e8d0-b9f8-48f4-87c1-dc7976a2ded4",
   "metadata": {},
   "source": [
    "#### Attach Lambda function and create ActionGroup\n",
    "Note: This uses the default Lambda function name \"imaging-biomarker-lambda\", this could be different in your account so double-check that this function exists and if not change the lambda_function_name in the code below"
   ]
  },
  {
   "cell_type": "code",
   "execution_count": null,
   "id": "40e64c59-8ed0-461f-a595-5bc2996a8166",
   "metadata": {
    "tags": []
   },
   "outputs": [],
   "source": [
    "# Define Lambda func. details, hardcode Lambda function name\n",
    "medical_imaging_lambda_function_name = \"imaging-biomarker-lambda\"  # Change if different in your account\n",
    "medical_imaging_lambda_function_arn = f\"arn:aws:lambda:{region}:{account_id}:function:{medical_imaging_lambda_function_name}\"\n",
    "%store medical_imaging_lambda_function_arn"
   ]
  },
  {
   "cell_type": "code",
   "execution_count": null,
   "id": "43f432af-cacd-4db7-bb4d-d2d2f0566644",
   "metadata": {
    "tags": []
   },
   "outputs": [],
   "source": [
    "agents.add_action_group_with_lambda(\n",
    "    agent_name=agent_name,\n",
    "    lambda_function_name=medical_imaging_lambda_function_name,\n",
    "    source_code_file=medical_imaging_lambda_function_arn,\n",
    "    agent_action_group_name=\"imagingBiomarkerProcessing\",\n",
    "    agent_action_group_description=\"Actions for processing imaging biomarker within CT scans for a list of subjects\",\n",
    "    agent_functions=function_defs,\n",
    "    verbose=True\n",
    ")"
   ]
  },
  {
   "cell_type": "markdown",
   "id": "db8799ab-77a8-4431-8edd-d1c1a7015c7c",
   "metadata": {},
   "source": [
    "#### Add resource based policy to Lambda function to allow agent to invoke"
   ]
  },
  {
   "cell_type": "code",
   "execution_count": null,
   "id": "f12947d7-2652-4664-b4e2-1712d4baf366",
   "metadata": {
    "tags": []
   },
   "outputs": [],
   "source": [
    "lambda_client = boto3.client('lambda', region)\n",
    "\n",
    "# Define the resource policy statement\n",
    "policy_statement = {\n",
    "    \"Sid\": \"AllowBedrockAgentAccess\",\n",
    "    \"Effect\": \"Allow\",\n",
    "    \"Principal\": {\n",
    "        \"Service\": \"bedrock.amazonaws.com\"\n",
    "    },\n",
    "    \"Action\": \"lambda:InvokeFunction\",\n",
    "    \"Resource\": medical_imaging_lambda_function_arn,\n",
    "    \"Condition\": {\n",
    "        \"ArnEquals\": {\n",
    "            \"aws:SourceArn\": medical_imaging_agent_arn\n",
    "        }\n",
    "    }\n",
    "}\n",
    "\n",
    "try:\n",
    "    # Get the current policy\n",
    "    response = lambda_client.get_policy(FunctionName=medical_imaging_lambda_function_arn)\n",
    "    current_policy = json.loads(response['Policy'])\n",
    "    \n",
    "    # Add the new statement to the existing policy\n",
    "    current_policy['Statement'].append(policy_statement)\n",
    "    \n",
    "except lambda_client.exceptions.ResourceNotFoundException:\n",
    "    # If there's no existing policy, create a new one\n",
    "    current_policy = {\n",
    "        \"Version\": \"2012-10-17\",\n",
    "        \"Statement\": [policy_statement]\n",
    "    }\n",
    "\n",
    "# Convert the policy to JSON string\n",
    "updated_policy = json.dumps(current_policy)\n",
    "\n",
    "# Add or update the resource policy\n",
    "response = lambda_client.add_permission(\n",
    "    FunctionName=medical_imaging_lambda_function_arn,\n",
    "    StatementId=\"AllowMedicalImagingAgentAccess\",\n",
    "    Action=\"lambda:InvokeFunction\",\n",
    "    Principal=\"bedrock.amazonaws.com\",\n",
    "    SourceArn=medical_imaging_agent_arn\n",
    ")\n",
    "\n",
    "print(\"Resource policy added successfully.\")\n",
    "print(\"Response:\", response)"
   ]
  },
  {
   "cell_type": "markdown",
   "id": "7918a1b7-9dbe-4345-a1a7-870d962bce17",
   "metadata": {},
   "source": [
    "#### Invoke Medical Imaging Expert Agent Test Alias to see that it answers question properly"
   ]
  },
  {
   "cell_type": "code",
   "execution_count": null,
   "id": "1f1dbd7b-b9c2-427b-b7e5-23961e64d877",
   "metadata": {
    "tags": []
   },
   "outputs": [],
   "source": [
    "bedrock_agent_runtime_client = boto3.client(\"bedrock-agent-runtime\", region)\n",
    "\n",
    "session_id = str(uuid.uuid1())\n",
    "\n",
    "\n",
    "test_query = \"Can you compute the imaging biomarkers for these 2 patients with patient IDs of R01-083 and R01-040?\"\n",
    "\n",
    "response = bedrock_agent_runtime_client.invoke_agent(\n",
    "      inputText=test_query,\n",
    "      agentId=medical_imaging_agent_id,\n",
    "      agentAliasId=\"TSTALIASID\", \n",
    "      sessionId=session_id,\n",
    "      enableTrace=True, \n",
    "      endSession=False,\n",
    "      sessionState={}\n",
    ")\n",
    "\n",
    "print(\"Request sent to Agent:\\n{}\".format(response))\n",
    "print(\"====================\")\n",
    "print(\"Agent processing query now\")\n",
    "print(\"====================\")\n",
    "\n",
    "# Initialize an empty string to store the answer\n",
    "answer = \"\"\n",
    "\n",
    "# Iterate through the event stream\n",
    "for event in response['completion']:\n",
    "    # Check if the event is a 'chunk' event\n",
    "    if 'chunk' in event:\n",
    "        chunk_obj = event['chunk']\n",
    "        if 'bytes' in chunk_obj:\n",
    "            # Decode the bytes and append to the answer\n",
    "            chunk_data = chunk_obj['bytes'].decode('utf-8')\n",
    "            answer += chunk_data\n",
    "\n",
    "# Now 'answer' contains the full response from the agent\n",
    "print(\"Agent Answer: {}\".format(answer))\n",
    "print(\"====================\")"
   ]
  },
  {
   "cell_type": "markdown",
   "id": "2c3cb851-c2f5-4883-9a9b-151cbd35daef",
   "metadata": {},
   "source": [
    "#### Now that agent has been tested via direct invoke, prepare it by creating an alias"
   ]
  },
  {
   "cell_type": "code",
   "execution_count": null,
   "id": "77c953ca-b104-4604-9971-bc89c3b1f464",
   "metadata": {},
   "outputs": [],
   "source": [
    "medical_imaging_agent_alias_id, medical_imaging_agent_alias_arn = agents.create_agent_alias(\n",
    "    medical_imaging_agent[0], 'v1'\n",
    ")\n",
    "\n",
    "%store medical_imaging_agent_alias_arn\n",
    "medical_imaging_agent_alias_id, medical_imaging_agent_alias_arn"
   ]
  }
 ],
 "metadata": {
  "kernelspec": {
   "display_name": "Python 3 (ipykernel)",
   "language": "python",
   "name": "python3"
  },
  "language_info": {
   "codemirror_mode": {
    "name": "ipython",
    "version": 3
   },
   "file_extension": ".py",
   "mimetype": "text/x-python",
   "name": "python",
   "nbconvert_exporter": "python",
   "pygments_lexer": "ipython3",
   "version": "3.11.11"
  }
 },
 "nbformat": 4,
 "nbformat_minor": 5
}
