{
 "cells": [
  {
   "cell_type": "markdown",
   "id": "24cee39a-a77d-4493-a532-56935aa07fd8",
   "metadata": {
    "tags": []
   },
   "source": [
    "# Destroy Agents\n",
    "In this section we clean up the resources created previously"
   ]
  },
  {
   "cell_type": "markdown",
   "id": "3c401dd7-dd66-44cd-a02a-fcdd95d98605",
   "metadata": {},
   "source": [
    "#### Ensure the latest version of boto3 is shown below"
   ]
  },
  {
   "cell_type": "code",
   "execution_count": null,
   "id": "73745fd0-9df8-4f95-b58e-843c958840ac",
   "metadata": {
    "tags": []
   },
   "outputs": [],
   "source": [
    "!pip freeze | grep boto3"
   ]
  },
  {
   "cell_type": "markdown",
   "id": "0740af25-3bfb-4394-a68e-6d5e342fccbe",
   "metadata": {},
   "source": [
    "#### Load in environment variables to notebook"
   ]
  },
  {
   "cell_type": "code",
   "execution_count": null,
   "id": "4b5a72d5-8584-4b55-9d62-04feff651ab4",
   "metadata": {
    "tags": []
   },
   "outputs": [],
   "source": [
    "# Retrieve import path\n",
    "%store -r IMPORTS_PATH\n",
    "\n",
    "# Retrieve account info\n",
    "%store -r account_id\n",
    "%store -r region\n",
    "\n",
    "# Retrieve model lists\n",
    "%store -r agent_foundation_model\n",
    "%store -r supervisor_agent_foundation_model\n",
    "\n",
    "# Retrive sub-agent Lambda ARNs here!\n",
    "%store -r redshift_lambda_function_arn\n",
    "%store -r research_evidence_lambda_function_arn\n",
    "%store -r medical_imaging_lambda_function_arn\n",
    "%store -r scientific_analysis_lambda_function_arn_1\n",
    "%store -r scientific_analysis_lambda_function_arn_2"
   ]
  },
  {
   "cell_type": "markdown",
   "id": "8ef228e7-54c0-4925-8c06-6d172ab3286c",
   "metadata": {},
   "source": [
    "#### Retrieve imports environment variable and bring libraries into notebook"
   ]
  },
  {
   "cell_type": "code",
   "execution_count": null,
   "id": "ae4b0cf3-76bf-4287-9b40-cc14566ebf8b",
   "metadata": {
    "tags": []
   },
   "outputs": [],
   "source": [
    "%run $IMPORTS_PATH"
   ]
  },
  {
   "cell_type": "markdown",
   "id": "0c9f9d09-4215-4a47-b03b-f74232de5068",
   "metadata": {},
   "source": [
    "#### Define necessary clients"
   ]
  },
  {
   "cell_type": "code",
   "execution_count": null,
   "id": "df50e6e0-c5b1-4570-896c-f5843286b472",
   "metadata": {},
   "outputs": [],
   "source": [
    "agents = AgentsForAmazonBedrock()\n",
    "lambda_client = boto3.client('lambda', region)"
   ]
  },
  {
   "cell_type": "markdown",
   "id": "479ea4a9-98fa-45ba-90c6-f55f4e5beeb3",
   "metadata": {},
   "source": [
    "#### Destroy Supervisor Agent"
   ]
  },
  {
   "cell_type": "code",
   "execution_count": null,
   "id": "314f783e-886f-45e2-ad4b-a0820a983ef5",
   "metadata": {},
   "outputs": [],
   "source": [
    "agents.delete_agent(\"multi-agent-biomarker\",delete_role_flag=False)"
   ]
  },
  {
   "cell_type": "markdown",
   "id": "a4e4a157-d9e7-411d-9a4c-055f94f773e7",
   "metadata": {},
   "source": [
    "#### Destroy Redshift Agent"
   ]
  },
  {
   "cell_type": "code",
   "execution_count": null,
   "id": "31949fe3-29fd-47b2-b6e4-e43ffeb0083e",
   "metadata": {},
   "outputs": [],
   "source": [
    "agents.delete_agent(\"Biomarker-database-analyst\",delete_role_flag=False)\n",
    "\n",
    "delete_request = lambda_client.remove_permission(\n",
    "    FunctionName=redshift_lambda_function_arn,\n",
    "    StatementId=\"AllowRedshiftAgentAccess\"\n",
    ")\n",
    "print(\"Deleted resource-based policy statement for Lambda function {}\".format(redshift_lambda_function_arn))"
   ]
  },
  {
   "cell_type": "markdown",
   "id": "03c780d8-887b-4c05-8f4b-83dfe7abefd5",
   "metadata": {},
   "source": [
    "#### Destroy Research Evidence Agent"
   ]
  },
  {
   "cell_type": "code",
   "execution_count": null,
   "id": "9f91674b-f39e-4db9-b1e4-fe659ccc7f20",
   "metadata": {},
   "outputs": [],
   "source": [
    "agents.delete_agent(\"Clinical-evidence-researcher\",delete_role_flag=False)\n",
    "\n",
    "delete_request = lambda_client.remove_permission(\n",
    "    FunctionName=research_evidence_lambda_function_arn,\n",
    "    StatementId=\"AllowResearchEvidenceAgentAccess\"\n",
    ")\n",
    "\n",
    "print(\"Deleted resource-based policy statement for Lambda function {}\".format(research_evidence_lambda_function_arn))"
   ]
  },
  {
   "cell_type": "markdown",
   "id": "5ad2a8f3-72b1-4484-bedf-db2d3c232c5d",
   "metadata": {},
   "source": [
    "#### Destroy Medical Imaging Agent"
   ]
  },
  {
   "cell_type": "code",
   "execution_count": null,
   "id": "e86a6297-dbb1-4d54-b987-2d83279c8670",
   "metadata": {},
   "outputs": [],
   "source": [
    "agents.delete_agent(\"Medical-imaging-expert\",delete_role_flag=False)\n",
    "\n",
    "delete_request = lambda_client.remove_permission(\n",
    "    FunctionName=medical_imaging_lambda_function_arn,\n",
    "    StatementId=\"AllowMedicalImagingAgentAccess\"\n",
    ")\n",
    "\n",
    "print(\"Deleted resource-based policy statement for Lambda function {}\".format(medical_imaging_lambda_function_arn))"
   ]
  },
  {
   "cell_type": "markdown",
   "id": "b6017d3e-3429-4dd4-ba41-32ca69eb7fc0",
   "metadata": {},
   "source": [
    "#### Destroy Scientific Analysis Agent"
   ]
  },
  {
   "cell_type": "code",
   "execution_count": null,
   "id": "1e8ce532-1da6-4e33-8295-3b2348eab0e9",
   "metadata": {},
   "outputs": [],
   "source": [
    "agents.delete_agent(\"Statistician\",delete_role_flag=False)\n",
    "\n",
    "delete_request_1 = lambda_client.remove_permission(\n",
    "    FunctionName=scientific_analysis_lambda_function_arn_1,\n",
    "    StatementId=\"AllowScientificAnalysisAgentAccess\"\n",
    ")\n",
    "print(\"Deleted resource-based policy statement for Lambda function {}\".format(scientific_analysis_lambda_function_arn_1))\n",
    "\n",
    "response = lambda_client.remove_permission(\n",
    "    FunctionName=scientific_analysis_lambda_function_arn_2,\n",
    "    StatementId=\"AllowScientificAnalysisAgentAccess\"\n",
    ")\n",
    "print(\"Deleted resource-based policy statement for Lambda function {}\".format(scientific_analysis_lambda_function_arn_2))"
   ]
  }
 ],
 "metadata": {
  "kernelspec": {
   "display_name": "conda_python3",
   "language": "python",
   "name": "conda_python3"
  },
  "language_info": {
   "codemirror_mode": {
    "name": "ipython",
    "version": 3
   },
   "file_extension": ".py",
   "mimetype": "text/x-python",
   "name": "python",
   "nbconvert_exporter": "python",
   "pygments_lexer": "ipython3",
   "version": "3.10.16"
  }
 },
 "nbformat": 4,
 "nbformat_minor": 5
}
