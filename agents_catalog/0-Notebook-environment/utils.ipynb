{
 "cells": [
  {
   "cell_type": "markdown",
   "id": "ef601009-d039-44ee-ae31-bcfba6cf172b",
   "metadata": {},
   "source": [
    "#### Define all needed import statements"
   ]
  },
  {
   "cell_type": "code",
   "execution_count": null,
   "id": "b1614159-cfab-4199-9c45-8f652b1523fb",
   "metadata": {
    "tags": []
   },
   "outputs": [],
   "source": [
    "# Standard Python libraries\n",
    "import boto3\n",
    "import sagemaker\n",
    "import os\n",
    "import json\n",
    "import time\n",
    "import uuid\n",
    "import inspect\n",
    "from datasets import load_dataset\n",
    "\n",
    "\n",
    "\n",
    "# Import needed functions to create agent (Bedrock sample code: https://github.com/awslabs/amazon-bedrock-agent-samples/blob/main/examples/amazon-bedrock-multi-agent-collaboration/energy_efficiency_management_agent/1-energy-forecast/1_forecasting_agent.ipynb)\n",
    "from bedrock_agent_helper import AgentsForAmazonBedrock\n",
    "\n",
    "print(\"Successfully imported necessary libraries into notebook\")"
   ]
  }
 ],
 "metadata": {
  "kernelspec": {
   "display_name": "conda_python3",
   "language": "python",
   "name": "conda_python3"
  },
  "language_info": {
   "codemirror_mode": {
    "name": "ipython",
    "version": 3
   },
   "file_extension": ".py",
   "mimetype": "text/x-python",
   "name": "python",
   "nbconvert_exporter": "python",
   "pygments_lexer": "ipython3",
   "version": "3.10.16"
  }
 },
 "nbformat": 4,
 "nbformat_minor": 5
}
