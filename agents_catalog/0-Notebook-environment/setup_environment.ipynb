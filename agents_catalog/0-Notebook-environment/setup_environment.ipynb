{
 "cells": [
  {
   "cell_type": "markdown",
   "id": "045a7b02-6a49-4b6d-b11f-43ed4ad3f190",
   "metadata": {
    "tags": []
   },
   "source": [
    "# Prepare Notebook Environment for Agents\n",
    "In this section we prepare this notebook environment with the necessary dependencies to create any Bedrock Agent in the catalog. You only need to run through this notebook, utils.ipynb simply contains imports that will be used throughout the notebooks."
   ]
  },
  {
   "cell_type": "markdown",
   "id": "be755083-73cf-48b0-8d2f-06769d176503",
   "metadata": {},
   "source": [
    "#### Run the pip3 commands below to install all needed packages"
   ]
  },
  {
   "cell_type": "code",
   "execution_count": null,
   "id": "22cff0fe-0fc5-455c-a8b7-88f7711afba7",
   "metadata": {
    "tags": []
   },
   "outputs": [],
   "source": [
    "!pip3 install -r requirements.txt\n",
    "!pip3 install --upgrade boto3\n",
    "!pip3 show boto3"
   ]
  },
  {
   "cell_type": "markdown",
   "id": "057a6dc9-bfea-44ce-8a7d-36fa5aca1d97",
   "metadata": {},
   "source": [
    "#### Ensure the latest version of boto3 is shown below"
   ]
  },
  {
   "cell_type": "code",
   "execution_count": null,
   "id": "5aaf9d4b-6c68-452b-be00-65aee9ec8af4",
   "metadata": {
    "tags": []
   },
   "outputs": [],
   "source": [
    "!pip freeze | grep boto3"
   ]
  },
  {
   "cell_type": "markdown",
   "id": "3d89cd8b-73ff-4cef-b040-31cc4e4b0233",
   "metadata": {},
   "source": [
    "#### Import all needed Python libraries\n",
    "Note: This can take a couple minutes to finish"
   ]
  },
  {
   "cell_type": "code",
   "execution_count": null,
   "id": "f56fe856-e1d4-42f1-aaf0-424f04ff4ba9",
   "metadata": {
    "tags": []
   },
   "outputs": [],
   "source": [
    "import os\n",
    "IMPORTS_PATH = os.path.abspath(os.path.join(os.getcwd(), \"utils.ipynb\"))\n",
    "%store IMPORTS_PATH\n",
    "%run $IMPORTS_PATH"
   ]
  },
  {
   "cell_type": "markdown",
   "id": "17e2d364-aab0-45fc-bf0f-2ad4bd8d9918",
   "metadata": {},
   "source": [
    "#### Extract account information needed for agent creation and define needed agent models\n",
    "##### Note: Sometimes a cross-region inference profile is needed to prevent throttling, if so then use the models that start with \"us.\" below"
   ]
  },
  {
   "cell_type": "code",
   "execution_count": null,
   "id": "657e0b1a-d4ff-4cfc-bb50-b64f888ca773",
   "metadata": {
    "tags": []
   },
   "outputs": [],
   "source": [
    "# boto3 session\n",
    "sts_client = boto3.client('sts')\n",
    "session = boto3.session.Session()\n",
    "\n",
    "# Account info\n",
    "account_id = sts_client.get_caller_identity()[\"Account\"]\n",
    "region = session.region_name\n",
    "\n",
    "# FM used for all agents, choose cross-region if needed\n",
    "agent_foundation_model = [\"anthropic.claude-3-5-sonnet-20241022-v2:0\"]\n",
    "# agent_foundation_model = [\"us.anthropic.claude-3-5-sonnet-20241022-v2:0\"]\n",
    "\n",
    "# Supervisor agent FM, choose cross-region if needed\n",
    "supervisor_agent_foundation_model = [\"anthropic.claude-3-5-sonnet-20241022-v2:0\"]\n",
    "# supervisor_agent_foundation_model = [\"us.anthropic.claude-3-5-sonnet-20241022-v2:0\"]"
   ]
  },
  {
   "cell_type": "markdown",
   "id": "62cf3207-9bad-4be7-8dc9-378b8c487819",
   "metadata": {},
   "source": [
    "### (BEFORE YOU PROCEED) Ensure that you have access to all Bedrock models in your AWS account\n",
    "If you have to enable model access, give a couple minutes before proceeding with agent creation"
   ]
  },
  {
   "cell_type": "markdown",
   "id": "9c6a97f3-d0a7-4715-b24d-7cb1f3fda07a",
   "metadata": {},
   "source": [
    "#### Store all needed variables in environment for future use in development"
   ]
  },
  {
   "cell_type": "code",
   "execution_count": null,
   "id": "70ef6cb8-0b7b-42ee-8c91-673bbea5b126",
   "metadata": {
    "tags": []
   },
   "outputs": [],
   "source": [
    "# Store account info\n",
    "%store account_id\n",
    "%store region\n",
    "\n",
    "# Store model lists\n",
    "%store agent_foundation_model\n",
    "%store supervisor_agent_foundation_model"
   ]
  },
  {
   "cell_type": "markdown",
   "id": "139313c1-923b-4a14-ad29-43bfbdedacd9",
   "metadata": {},
   "source": [
    "#### Navigate to the SageMaker Notebook execution role displayed below in IAM and attach the following policies: \n",
    "\n",
    "##### [\"BedrockFullAccess\", \"IAMFullAccess\", \"AmazonSSMFullAccess\", \"AWSLambda_FullAccess\", \"AmazonS3FullAccess\", \"AmazonAthenaFullAccess\", \"AWSCloudFormationFullAccess\", \"VPCFullAccess\"]\n",
    "\n",
    "Give a few minutes for these permissions to update"
   ]
  },
  {
   "cell_type": "code",
   "execution_count": null,
   "id": "cd013e32-049b-44d5-925e-b46f0778f46a",
   "metadata": {
    "tags": []
   },
   "outputs": [],
   "source": [
    "# Output SageMaker Notebook execution role for user to add policies to\n",
    "\n",
    "# Get the SageMaker session\n",
    "sagemaker_session = sagemaker.Session()\n",
    "\n",
    "# Get the execution role\n",
    "role = sagemaker_session.get_caller_identity_arn()\n",
    "\n",
    "print(f\"SageMaker Execution Role: {role}\")"
   ]
  }
 ],
 "metadata": {
  "kernelspec": {
   "display_name": "conda_python3",
   "language": "python",
   "name": "conda_python3"
  },
  "language_info": {
   "codemirror_mode": {
    "name": "ipython",
    "version": 3
   },
   "file_extension": ".py",
   "mimetype": "text/x-python",
   "name": "python",
   "nbconvert_exporter": "python",
   "pygments_lexer": "ipython3",
   "version": "3.10.16"
  }
 },
 "nbformat": 4,
 "nbformat_minor": 5
}
