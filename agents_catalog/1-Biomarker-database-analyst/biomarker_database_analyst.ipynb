{
 "cells": [
  {
   "cell_type": "markdown",
   "id": "24cee39a-a77d-4493-a532-56935aa07fd8",
   "metadata": {
    "tags": []
   },
   "source": [
    "# Biomarker Database Analyst Agent\n",
    "In this notebook we create the biomarker database analyst sub-agent"
   ]
  },
  {
   "cell_type": "markdown",
   "id": "3c401dd7-dd66-44cd-a02a-fcdd95d98605",
   "metadata": {},
   "source": [
    "#### Ensure the latest version of boto3 is shown below\n",
    "\n",
    "##### If not then run through setup_environment.ipynb in the 0-Notebook-environment/ folder"
   ]
  },
  {
   "cell_type": "code",
   "execution_count": null,
   "id": "73745fd0-9df8-4f95-b58e-843c958840ac",
   "metadata": {
    "tags": []
   },
   "outputs": [],
   "source": [
    "!pip freeze | grep boto3"
   ]
  },
  {
   "cell_type": "markdown",
   "id": "0740af25-3bfb-4394-a68e-6d5e342fccbe",
   "metadata": {},
   "source": [
    "#### Load in environment variables to notebook"
   ]
  },
  {
   "cell_type": "code",
   "execution_count": null,
   "id": "4b5a72d5-8584-4b55-9d62-04feff651ab4",
   "metadata": {
    "tags": []
   },
   "outputs": [],
   "source": [
    "# Retrieve import path\n",
    "%store -r IMPORTS_PATH\n",
    "\n",
    "# Retrieve account info\n",
    "%store -r account_id\n",
    "%store -r region\n",
    "\n",
    "# Retrieve model lists\n",
    "%store -r agent_foundation_model"
   ]
  },
  {
   "cell_type": "markdown",
   "id": "8ef228e7-54c0-4925-8c06-6d172ab3286c",
   "metadata": {},
   "source": [
    "#### Retrieve imports environment variable and bring libraries into notebook"
   ]
  },
  {
   "cell_type": "code",
   "execution_count": null,
   "id": "ae4b0cf3-76bf-4287-9b40-cc14566ebf8b",
   "metadata": {
    "tags": []
   },
   "outputs": [],
   "source": [
    "%run $IMPORTS_PATH"
   ]
  },
  {
   "cell_type": "markdown",
   "id": "8c5ecfce-78c8-4721-a4e6-35a7745d8871",
   "metadata": {
    "tags": []
   },
   "source": [
    "# Prerequisites\n",
    "\n",
    "This notebook assumes that you have deployed the CloudFormation stack located at https://github.com/aws-samples/amazon-bedrock-agents-cancer-biomarker-discovery to your AWS account in workshop mode."
   ]
  },
  {
   "cell_type": "markdown",
   "id": "96053d0a-6dfd-4623-aea4-d7eaedc6dc63",
   "metadata": {
    "tags": []
   },
   "source": [
    "# Agent Creation\n",
    "In this section we create the sub-agent"
   ]
  },
  {
   "cell_type": "markdown",
   "id": "3e974c4f-200d-499a-ba94-70de02a88486",
   "metadata": {},
   "source": [
    "#### Define agent configuration"
   ]
  },
  {
   "cell_type": "code",
   "execution_count": null,
   "id": "11e88b67-5f84-45be-90af-673c11730230",
   "metadata": {
    "tags": []
   },
   "outputs": [],
   "source": [
    "agent_name = 'Biomarker-database-analyst'\n",
    "agent_description = \"biomarker query engine with redshift\"\n",
    "agent_instruction = \"\"\"\n",
    "You are a medical research assistant AI specialized in generating SQL queries for a \n",
    "database containing medical biomarker information. Your primary task is to interpret user queries, \n",
    "generate appropriate SQL queries, and provide relevant medical insights based on the data. \n",
    "Use only the appropriate tools as required by the specific question. Follow these instructions carefully: \n",
    "1. Before generating any SQL query, use the /getschema tool to familiarize yourself with the database structure. \n",
    "This will ensure your queries are correctly formatted and target the appropriate columns. \n",
    "2. When generating an SQL query: a. Write the query as a single line, removing all newline (\"\\n\") characters. \n",
    "b. Column names should remain consistent, do not modify the column names in the generated SQL query. \n",
    "3. Before execution of a step, a. Evaluate the SQL query with the rationale of the specific step by \n",
    "using the /refinesql tool. Provide both the SQL query and a brief rationale for the specific step you're taking. \n",
    "Do not share the original user question with the tool. b. Only proceed to execute the query using the /queryredshift \n",
    "tool after receiving the evaluated and potentially optimized version from the /refinesql tool. \n",
    "c. If there is an explicit need for retrieving all the data in S3, avoid optimized query recommendations that \n",
    "aggregate the data. 4. When providing your response: a. Start with a brief summary of your understanding of \n",
    "the user's query. b. Explain the steps you're taking to address the query. c. Ask for clarifications from the \n",
    "user if required.\"\"\""
   ]
  },
  {
   "cell_type": "markdown",
   "id": "3d2b94bc-1ed8-4542-9315-1494d76d4445",
   "metadata": {},
   "source": [
    "#### Instantiate agent with the desired configuration"
   ]
  },
  {
   "cell_type": "code",
   "execution_count": null,
   "id": "37eb6515-56ec-4bf5-afc1-99f303add381",
   "metadata": {
    "tags": []
   },
   "outputs": [],
   "source": [
    "agents = AgentsForAmazonBedrock()\n",
    "\n",
    "redshift_agent = agents.create_agent(\n",
    "    agent_name,\n",
    "    agent_description,\n",
    "    agent_instruction,\n",
    "    agent_foundation_model,\n",
    "    code_interpretation=False,\n",
    "    verbose=False\n",
    ")\n",
    "\n",
    "redshift_agent"
   ]
  },
  {
   "cell_type": "markdown",
   "id": "f8fe77f5-6e24-4bab-a192-480091e5bd09",
   "metadata": {},
   "source": [
    "#### Extract useful agent information"
   ]
  },
  {
   "cell_type": "code",
   "execution_count": null,
   "id": "1db8b112-ddc8-4a57-817a-528a20a72880",
   "metadata": {
    "tags": []
   },
   "outputs": [],
   "source": [
    "redshift_agent_id = redshift_agent[0]\n",
    "redshift_agent_arn = f\"arn:aws:bedrock:{region}:{account_id}:agent/{redshift_agent_id}\"\n",
    "\n",
    "redshift_agent_id, redshift_agent_arn"
   ]
  },
  {
   "cell_type": "markdown",
   "id": "e922d7b4-bbef-4462-bdfd-c40b8cbf2e9d",
   "metadata": {},
   "source": [
    "#### Define the API Schema needed for an ActionGroup"
   ]
  },
  {
   "cell_type": "code",
   "execution_count": null,
   "id": "491d747d-42a5-4ccd-a535-d8d10f60132b",
   "metadata": {
    "tags": []
   },
   "outputs": [],
   "source": [
    "api_schema_string = '''{\n",
    "  \"openapi\": \"3.0.1\",\n",
    "  \"info\": {\n",
    "    \"title\": \"Database schema look up and query APIs\",\n",
    "    \"version\": \"1.0.0\",\n",
    "    \"description\": \"APIs for looking up database table schemas and making queries to database tables.\"\n",
    "  },\n",
    "  \"paths\": {\n",
    "    \"/getschema\": {\n",
    "      \"get\": {\n",
    "        \"summary\": \"Get a list of all columns in the redshift database\",\n",
    "        \"description\": \"Get the list of all columns in the redshift database table. Return all the column information in database table.\",\n",
    "        \"operationId\": \"getschema\",\n",
    "        \"responses\": {\n",
    "          \"200\": {\n",
    "            \"description\": \"Gets the list of table names and their schemas in the database\",\n",
    "            \"content\": {\n",
    "              \"application/json\": {\n",
    "                \"schema\": {\n",
    "                  \"type\": \"array\",\n",
    "                  \"items\": {\n",
    "                    \"type\": \"object\",\n",
    "                    \"properties\": {\n",
    "                      \"Table\": {\n",
    "                        \"type\": \"string\",\n",
    "                        \"description\": \"The name of the table in the database.\"\n",
    "                      },\n",
    "                      \"Schema\": {\n",
    "                        \"type\": \"string\",\n",
    "                        \"description\": \"The schema of the table in the database. Contains all columns needed for making queries.\"\n",
    "                      }\n",
    "                    }\n",
    "                  }\n",
    "                }\n",
    "              }\n",
    "            }\n",
    "          }\n",
    "        }\n",
    "      }\n",
    "    },\n",
    "    \"/queryredshift\": {\n",
    "      \"get\": {\n",
    "        \"summary\": \"API to send query to the redshift database table\",\n",
    "        \"description\": \"Send a query to the database table to retrieve information pertaining to the users question. The API takes in only one SQL query at a time, sends the SQL statement and returns the query results from the table. This API should be called for each SQL query to a database table.\",\n",
    "        \"operationId\": \"queryredshift\",\n",
    "        \"parameters\": [\n",
    "          {\n",
    "            \"name\": \"query\",\n",
    "            \"in\": \"query\",\n",
    "            \"required\": true,\n",
    "            \"schema\": {\n",
    "              \"type\": \"string\"\n",
    "            },\n",
    "            \"description\": \"SQL statement to query database table.\"\n",
    "          }\n",
    "        ],\n",
    "        \"responses\": {\n",
    "          \"200\": {\n",
    "            \"description\": \"Query sent successfully\",\n",
    "            \"content\": {\n",
    "              \"application/json\": {\n",
    "                \"schema\": {\n",
    "                  \"type\": \"object\",\n",
    "                  \"properties\": {\n",
    "                    \"responseBody\": {\n",
    "                      \"type\": \"string\",\n",
    "                      \"description\": \"The query response from the database.\"\n",
    "                    }\n",
    "                  }\n",
    "                }\n",
    "              }\n",
    "            }\n",
    "          },\n",
    "          \"400\": {\n",
    "            \"description\": \"Bad request. One or more required fields are missing or invalid.\"\n",
    "          }\n",
    "        }\n",
    "      }\n",
    "    },\n",
    "    \"/refinesql\": {\n",
    "      \"get\": {\n",
    "        \"summary\": \"Evaluate SQL query efficiency\",\n",
    "        \"description\": \"Evaluate the efficiency of an SQL query based on the provided schema, query, and question.\",\n",
    "        \"operationId\": \"refinesql\",\n",
    "        \"parameters\": [\n",
    "          {\n",
    "            \"name\": \"sql\",\n",
    "            \"in\": \"query\",\n",
    "            \"required\": true,\n",
    "            \"schema\": {\n",
    "              \"type\": \"string\"\n",
    "            },\n",
    "            \"description\": \"The SQL query to evaluate.\"\n",
    "          },\n",
    "          {\n",
    "            \"name\": \"question\",\n",
    "            \"in\": \"query\",\n",
    "            \"required\": true,\n",
    "            \"schema\": {\n",
    "              \"type\": \"string\"\n",
    "            },\n",
    "            \"description\": \"The question related to the rationale of the specific step.\"\n",
    "          }\n",
    "        ],\n",
    "        \"responses\": {\n",
    "          \"200\": {\n",
    "            \"description\": \"Successful response\",\n",
    "            \"content\": {\n",
    "              \"application/json\": {\n",
    "                \"schema\": {\n",
    "                  \"type\": \"object\",\n",
    "                  \"properties\": {\n",
    "                    \"evaluatedQuery\": {\n",
    "                      \"type\": \"string\",\n",
    "                      \"description\": \"The evaluated SQL query, or the original query if it is efficient.\"\n",
    "                    }\n",
    "                  }\n",
    "                }\n",
    "              }\n",
    "            }\n",
    "          },\n",
    "          \"400\": {\n",
    "            \"description\": \"Bad request. One or more required fields are missing or invalid.\"\n",
    "          }\n",
    "        }\n",
    "      }\n",
    "    }\n",
    "  }\n",
    "}\n",
    "'''"
   ]
  },
  {
   "cell_type": "code",
   "execution_count": null,
   "id": "5aed769f-3163-4931-9d76-e7c5633fd900",
   "metadata": {
    "tags": []
   },
   "outputs": [],
   "source": [
    "api_schema = {\"payload\": api_schema_string}"
   ]
  },
  {
   "cell_type": "markdown",
   "id": "7679e8d0-b9f8-48f4-87c1-dc7976a2ded4",
   "metadata": {},
   "source": [
    "#### Attach Lambda function and create ActionGroup\n",
    "Note: This uses the default Lambda function name \"biomarker-agent-env1\", this could be different in your account so double-check that this function exists and if not change the lambda_function_name in the code below"
   ]
  },
  {
   "cell_type": "code",
   "execution_count": null,
   "id": "40e64c59-8ed0-461f-a595-5bc2996a8166",
   "metadata": {
    "tags": []
   },
   "outputs": [],
   "source": [
    "redshift_lambda_function_name = \"biomarker-agent-env1\"  # Change if different in your account\n",
    "redshift_lambda_function_arn = f\"arn:aws:lambda:{region}:{account_id}:function:{redshift_lambda_function_name}\"\n",
    "%store redshift_lambda_function_arn"
   ]
  },
  {
   "cell_type": "code",
   "execution_count": null,
   "id": "749680b2-78a3-4b29-b190-884a0f8823f3",
   "metadata": {
    "tags": []
   },
   "outputs": [],
   "source": [
    "agents.add_action_group_with_lambda(\n",
    "    agent_name=agent_name,\n",
    "    lambda_function_name=redshift_lambda_function_name,\n",
    "    source_code_file=f\"arn:aws:lambda:{region}:{account_id}:function:{redshift_lambda_function_name}\",\n",
    "    agent_action_group_name=\"sqlActionGroup\",\n",
    "    agent_action_group_description=\"Action for getting the database schema and querying the database\",\n",
    "    api_schema=api_schema,\n",
    "    verbose=True\n",
    ")"
   ]
  },
  {
   "cell_type": "markdown",
   "id": "db8799ab-77a8-4431-8edd-d1c1a7015c7c",
   "metadata": {},
   "source": [
    "#### Add resource based policy to Lambda function to allow agent to invoke"
   ]
  },
  {
   "cell_type": "code",
   "execution_count": null,
   "id": "f12947d7-2652-4664-b4e2-1712d4baf366",
   "metadata": {
    "tags": []
   },
   "outputs": [],
   "source": [
    "lambda_client = boto3.client('lambda', region)\n",
    "\n",
    "# Define the resource policy statement\n",
    "policy_statement = {\n",
    "    \"Sid\": \"AllowBedrockAgentAccess\",\n",
    "    \"Effect\": \"Allow\",\n",
    "    \"Principal\": {\n",
    "        \"Service\": \"bedrock.amazonaws.com\"\n",
    "    },\n",
    "    \"Action\": \"lambda:InvokeFunction\",\n",
    "    \"Resource\": redshift_lambda_function_arn,\n",
    "    \"Condition\": {\n",
    "        \"ArnEquals\": {\n",
    "            \"aws:SourceArn\": redshift_agent_arn\n",
    "        }\n",
    "    }\n",
    "}\n",
    "\n",
    "try:\n",
    "    # Get the current policy\n",
    "    response = lambda_client.get_policy(FunctionName=redshift_lambda_function_arn)\n",
    "    current_policy = json.loads(response['Policy'])\n",
    "    \n",
    "    # Add the new statement to the existing policy\n",
    "    current_policy['Statement'].append(policy_statement)\n",
    "    \n",
    "except lambda_client.exceptions.ResourceNotFoundException:\n",
    "    # If there's no existing policy, create a new one\n",
    "    current_policy = {\n",
    "        \"Version\": \"2012-10-17\",\n",
    "        \"Statement\": [policy_statement]\n",
    "    }\n",
    "\n",
    "# Convert the policy to JSON string\n",
    "updated_policy = json.dumps(current_policy)\n",
    "\n",
    "# Add or update the resource policy\n",
    "response = lambda_client.add_permission(\n",
    "    FunctionName=redshift_lambda_function_arn,\n",
    "    StatementId=\"AllowRedshiftAgentAccess\",\n",
    "    Action=\"lambda:InvokeFunction\",\n",
    "    Principal=\"bedrock.amazonaws.com\",\n",
    "    SourceArn=redshift_agent_arn\n",
    ")\n",
    "\n",
    "print(\"Resource policy added successfully.\")\n",
    "print(\"Response:\", response)"
   ]
  },
  {
   "cell_type": "markdown",
   "id": "7918a1b7-9dbe-4345-a1a7-870d962bce17",
   "metadata": {},
   "source": [
    "#### Invoke Redshift Agent Test Alias to see that it answers question properly"
   ]
  },
  {
   "cell_type": "code",
   "execution_count": null,
   "id": "1f1dbd7b-b9c2-427b-b7e5-23961e64d877",
   "metadata": {
    "tags": []
   },
   "outputs": [],
   "source": [
    "%%time\n",
    "\n",
    "bedrock_agent_runtime_client = boto3.client(\"bedrock-agent-runtime\", region)\n",
    "\n",
    "session_id:str = str(uuid.uuid1())\n",
    "\n",
    "query = \"How many patients are current smokers?\"\n",
    "response = bedrock_agent_runtime_client.invoke_agent(\n",
    "      inputText=query,\n",
    "      agentId=redshift_agent_id,\n",
    "      agentAliasId=\"TSTALIASID\", \n",
    "      sessionId=session_id,\n",
    "      enableTrace=True, \n",
    "      endSession=False,\n",
    "      sessionState={}\n",
    ")\n",
    "\n",
    "print(\"Request sent to Agent:\\n{}\".format(response))\n",
    "print(\"====================\")\n",
    "print(\"Agent processing query now\")\n",
    "print(\"====================\")\n",
    "\n",
    "# Initialize an empty string to store the answer\n",
    "answer = \"\"\n",
    "\n",
    "# Iterate through the event stream\n",
    "for event in response['completion']:\n",
    "    # Check if the event is a 'chunk' event\n",
    "    if 'chunk' in event:\n",
    "        chunk_obj = event['chunk']\n",
    "        if 'bytes' in chunk_obj:\n",
    "            # Decode the bytes and append to the answer\n",
    "            chunk_data = chunk_obj['bytes'].decode('utf-8')\n",
    "            answer += chunk_data\n",
    "\n",
    "# Now 'answer' contains the full response from the agent\n",
    "print(\"Agent Answer: {}\".format(answer))\n",
    "print(\"====================\")"
   ]
  },
  {
   "cell_type": "markdown",
   "id": "2c3cb851-c2f5-4883-9a9b-151cbd35daef",
   "metadata": {},
   "source": [
    "#### Now that agent has been tested via direct invoke, prepare it by creating an alias"
   ]
  },
  {
   "cell_type": "code",
   "execution_count": null,
   "id": "77c953ca-b104-4604-9971-bc89c3b1f464",
   "metadata": {},
   "outputs": [],
   "source": [
    "redshift_agent_alias_id, redshift_agent_alias_arn = agents.create_agent_alias(\n",
    "    redshift_agent[0], 'v1'\n",
    ")\n",
    "\n",
    "%store redshift_agent_alias_arn\n",
    "redshift_agent_alias_id, redshift_agent_alias_arn"
   ]
  }
 ],
 "metadata": {
  "kernelspec": {
   "display_name": "conda_python3",
   "language": "python",
   "name": "conda_python3"
  },
  "language_info": {
   "codemirror_mode": {
    "name": "ipython",
    "version": 3
   },
   "file_extension": ".py",
   "mimetype": "text/x-python",
   "name": "python",
   "nbconvert_exporter": "python",
   "pygments_lexer": "ipython3",
   "version": "3.10.16"
  }
 },
 "nbformat": 4,
 "nbformat_minor": 5
}
