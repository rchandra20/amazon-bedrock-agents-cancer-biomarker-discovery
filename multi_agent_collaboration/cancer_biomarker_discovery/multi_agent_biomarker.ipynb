{
 "cells": [
  {
   "cell_type": "markdown",
   "id": "24cee39a-a77d-4493-a532-56935aa07fd8",
   "metadata": {
    "tags": []
   },
   "source": [
    "# Create Biomarker Supervisor Agent\n",
    "In this notebook we create the Biomarker Supervisor Agent that will interact with all of the Biomarker sub-agents using the 'multi-agent-collaboration' feature in Bedrock Agents"
   ]
  },
  {
   "cell_type": "markdown",
   "id": "8c5ecfce-78c8-4721-a4e6-35a7745d8871",
   "metadata": {
    "tags": []
   },
   "source": [
    "# Prerequisites\n",
    "\n",
    "1. Deploy the CloudFormation stack located at https://github.com/aws-samples/amazon-bedrock-agents-cancer-biomarker-discovery to your AWS account\\\n",
    "\n",
    "2. Run through the notebook environment setup in agents_catalog/0-Notebook-environment\n",
    "\n",
    "3. Create all Biomarker sub-agents: 'Biomarker-database-analyst', 'Clinical-evidence-researcher', 'Medical-imaging-expert', and 'Statistician' using the notebooks in the agents_catalog/ folder"
   ]
  },
  {
   "cell_type": "markdown",
   "id": "3c401dd7-dd66-44cd-a02a-fcdd95d98605",
   "metadata": {},
   "source": [
    "#### Ensure the latest version of boto3 is shown below"
   ]
  },
  {
   "cell_type": "code",
   "execution_count": null,
   "id": "73745fd0-9df8-4f95-b58e-843c958840ac",
   "metadata": {
    "tags": []
   },
   "outputs": [],
   "source": [
    "!pip freeze | grep boto3"
   ]
  },
  {
   "cell_type": "markdown",
   "id": "0740af25-3bfb-4394-a68e-6d5e342fccbe",
   "metadata": {},
   "source": [
    "#### Load in environment variables to notebook"
   ]
  },
  {
   "cell_type": "code",
   "execution_count": null,
   "id": "4b5a72d5-8584-4b55-9d62-04feff651ab4",
   "metadata": {
    "tags": []
   },
   "outputs": [],
   "source": [
    "# Retrieve import path\n",
    "%store -r IMPORTS_PATH\n",
    "\n",
    "# Retrieve account info\n",
    "%store -r account_id\n",
    "%store -r region\n",
    "\n",
    "# Retrieve model needed\n",
    "%store -r supervisor_agent_foundation_model"
   ]
  },
  {
   "cell_type": "markdown",
   "id": "8ef228e7-54c0-4925-8c06-6d172ab3286c",
   "metadata": {},
   "source": [
    "#### Retrieve imports environment variable and bring libraries into notebook"
   ]
  },
  {
   "cell_type": "code",
   "execution_count": null,
   "id": "ae4b0cf3-76bf-4287-9b40-cc14566ebf8b",
   "metadata": {
    "tags": []
   },
   "outputs": [],
   "source": [
    "%run $IMPORTS_PATH"
   ]
  },
  {
   "cell_type": "markdown",
   "id": "96053d0a-6dfd-4623-aea4-d7eaedc6dc63",
   "metadata": {
    "tags": []
   },
   "source": [
    "# Agent Creation\n",
    "In this section we create the supervisor agent"
   ]
  },
  {
   "cell_type": "markdown",
   "id": "3e974c4f-200d-499a-ba94-70de02a88486",
   "metadata": {},
   "source": [
    "#### Define agent configuration below "
   ]
  },
  {
   "cell_type": "code",
   "execution_count": null,
   "id": "11e88b67-5f84-45be-90af-673c11730230",
   "metadata": {
    "tags": []
   },
   "outputs": [],
   "source": [
    "agent_name = \"multi-agent-biomarker\"\n",
    "agent_description = \"Multi-agent collaboration for biomarker discovery\"\n",
    "agent_instruction = \"\"\"You are a medical research assistant AI specialized in cancer biomarker analysis and discovery. \n",
    "Your primary task is to interpret user queries, use relevant agents for specific tasks, and provide consolidated \n",
    "medical insights based on the data. Use only the appropriate agents as required by the specific question. \n",
    "You can provide responses from a prior agent to the next agent in sequence. \n",
    "\n",
    "1. BiomarkerDatabaseAnalyst\n",
    "- Executes SQL queries for biomarker data retrieval\n",
    "- Manages patient biomarker database access\n",
    "- Processes structured medical data\n",
    "2. ClinicalEvidenceResearcher\n",
    "- Synthesizes internal and external research evidence\n",
    "- Provides context from existing medical literature\n",
    "- Summarizes relevant clinical findings\n",
    "3. MedicalImagingExpert\n",
    "- Processes medical imaging scans\n",
    "- Creates and manages imaging analysis jobs\n",
    "- Interprets imaging results\n",
    "4. Statistician\n",
    "- Conducts survival analysis with biomarkers\n",
    "- Performs statistical modeling\n",
    "- Creates data visualizations\n",
    "\n",
    "For each user query:\n",
    "1. Query Analysis:\n",
    "- Summarize understanding of the request\n",
    "- Identify which specialized tools are needed\n",
    "- Request any necessary clarifications\n",
    "2. Execution Strategy:\n",
    "- Coordinate relevant tools in logical sequence\n",
    "- Pass information between tools as needed\n",
    "- Track and validate results from each step\n",
    "3. Response Format:\n",
    "- Present findings from each utilized tool\n",
    "- Provide integrated analysis across tools\n",
    "- Explain technical concepts clearly\n",
    "- Summarize research implications\n",
    "\n",
    "Maintain scientific accuracy while ensuring explanations are accessible to users of varying expertise levels.\n",
    "\"\"\""
   ]
  },
  {
   "cell_type": "markdown",
   "id": "3d2b94bc-1ed8-4542-9315-1494d76d4445",
   "metadata": {},
   "source": [
    "#### Instantiate agent with the desired configuration"
   ]
  },
  {
   "cell_type": "code",
   "execution_count": null,
   "id": "37eb6515-56ec-4bf5-afc1-99f303add381",
   "metadata": {
    "tags": []
   },
   "outputs": [],
   "source": [
    "agents = AgentsForAmazonBedrock()\n",
    "\n",
    "supervisor_agent = agents.create_agent(\n",
    "    agent_name,\n",
    "    agent_description,\n",
    "    agent_instruction,\n",
    "    supervisor_agent_foundation_model,\n",
    "    agent_collaboration='SUPERVISOR',\n",
    "    code_interpretation=False,\n",
    "    verbose=False,\n",
    ")\n",
    "\n",
    "supervisor_agent"
   ]
  },
  {
   "cell_type": "markdown",
   "id": "f8fe77f5-6e24-4bab-a192-480091e5bd09",
   "metadata": {},
   "source": [
    "#### Extract useful agent information"
   ]
  },
  {
   "cell_type": "code",
   "execution_count": null,
   "id": "1db8b112-ddc8-4a57-817a-528a20a72880",
   "metadata": {
    "tags": []
   },
   "outputs": [],
   "source": [
    "supervisor_agent_id = supervisor_agent[0]\n",
    "supervisor_agent_id"
   ]
  },
  {
   "cell_type": "markdown",
   "id": "d89b3ef3-efe8-41e4-8a9f-01a6080af493",
   "metadata": {},
   "source": [
    "#### Define the sub-agents that the Supervisor Agent is to work with\n",
    "#### Sub-agents can simply be added/removed from this list \n",
    "Note: Provide each agent's AliasID and Agent ID below"
   ]
  },
  {
   "cell_type": "code",
   "execution_count": null,
   "id": "806ef236-b117-46f0-969f-79c6fbf5c7bb",
   "metadata": {},
   "outputs": [],
   "source": [
    "# Retrieve the information from the Bedrock Agents console based on their names and fill in below\n",
    "\n",
    "bedrock_agent_client = boto3.client('bedrock-agent', region)\n",
    "\n",
    "# Biomarker-Database-Analyst\n",
    "redshift_agent_alias_arn = bedrock_agent_client.get_agent_alias(\n",
    "    agentAliasId='FILL IN',\n",
    "    agentId='FILL IN'\n",
    ")['agentAlias']['agentAliasArn']\n",
    "\n",
    "# Clinical-evidence-researcher\n",
    "research_evidence_agent_alias_arn = bedrock_agent_client.get_agent_alias(\n",
    "    agentAliasId='FILL IN',\n",
    "    agentId='FILL IN'\n",
    ")['agentAlias']['agentAliasArn']\n",
    "\n",
    "# Medical-imaging-expert\n",
    "medical_imaging_agent_alias_arn = bedrock_agent_client.get_agent_alias(\n",
    "    agentAliasId='FILL IN',\n",
    "    agentId='FILL IN'\n",
    ")['agentAlias']['agentAliasArn']\n",
    "\n",
    "# Statistician\n",
    "scientific_analysis_agent_alias_arn = bedrock_agent_client.get_agent_alias(\n",
    "    agentAliasId='FILL IN',\n",
    "    agentId='FILL IN'\n",
    ")['agentAlias']['agentAliasArn']\n",
    "\n",
    "redshift_agent_alias_arn, research_evidence_agent_alias_arn, medical_imaging_agent_alias_arn, scientific_analysis_agent_alias_arn"
   ]
  },
  {
   "cell_type": "code",
   "execution_count": null,
   "id": "4d00454c-dfdc-40d7-b960-879bc7a707a3",
   "metadata": {},
   "outputs": [],
   "source": [
    "sub_agents_list = [\n",
    "    {\n",
    "        'sub_agent_alias_arn': redshift_agent_alias_arn,\n",
    "        'sub_agent_instruction': \"\"\"Use this agent specialized in generating and executing SQL queries for a database containing medical biomarker information. Its primary task is to interpret user queries, generate and execute appropriate SQL queries.\"\"\",\n",
    "        'sub_agent_association_name': 'BiomarkerDatabaseAnalyst',\n",
    "        'relay_conversation_history': 'TO_COLLABORATOR'\n",
    "    },\n",
    "    {\n",
    "        'sub_agent_alias_arn': research_evidence_agent_alias_arn,\n",
    "        'sub_agent_instruction': \"\"\"Use this agent specialized in summarizing internal and external evidence related to cancer biomarkers. Its primary task is to interpret user queries, gather internal and external evidence, and provide relevant medical insights based on the results.\"\"\",\n",
    "        'sub_agent_association_name': 'ClincialEvidenceResearcher',\n",
    "        'relay_conversation_history': 'TO_COLLABORATOR'\n",
    "    },\n",
    "    {\n",
    "        'sub_agent_alias_arn': medical_imaging_agent_alias_arn,\n",
    "        'sub_agent_instruction': \"\"\"Use this agent specialized in processing medical imaging scans of patients. Its primary task is to create medical imaging jobs or provide relevant medical insights after jobs complete execution.\"\"\",\n",
    "        'sub_agent_association_name': 'MedicalImagingExpert',\n",
    "        'relay_conversation_history': 'TO_COLLABORATOR'\n",
    "    },\n",
    "    {\n",
    "        'sub_agent_alias_arn': scientific_analysis_agent_alias_arn,\n",
    "        'sub_agent_instruction': \"\"\"Use this agent specialized in in survival analysis with biomarkers. Its primary job is to interpret user queries, run scientific analysis tasks, and provide relevant medical insights with available visualization tools.\"\"\",\n",
    "        'sub_agent_association_name': 'Statistician',\n",
    "        'relay_conversation_history': 'TO_COLLABORATOR'\n",
    "    }\n",
    "]"
   ]
  },
  {
   "cell_type": "code",
   "execution_count": null,
   "id": "3d5a4b51-ed6f-467d-80c8-7f446cfa90d3",
   "metadata": {},
   "outputs": [],
   "source": [
    "sub_agents_list"
   ]
  },
  {
   "cell_type": "markdown",
   "id": "c7fda9fd-af8e-44e1-9fcb-dcd3482408a0",
   "metadata": {},
   "source": [
    "#### Associate sub-agents to supervisor, prepares supervisor agent"
   ]
  },
  {
   "cell_type": "code",
   "execution_count": null,
   "id": "345d5573-62fa-4569-8686-9a721a56fe22",
   "metadata": {},
   "outputs": [],
   "source": [
    "supervisor_agent_alias_id, supervisor_agent_alias_arn = agents.associate_sub_agents(\n",
    "    supervisor_agent_id, sub_agents_list\n",
    ")\n",
    "supervisor_agent_alias_id, supervisor_agent_alias_arn"
   ]
  },
  {
   "cell_type": "markdown",
   "id": "70616bec-d037-4bbb-bf0b-cd4db541b872",
   "metadata": {},
   "source": [
    "#### Update SSM Parameter store so that Streamlit App uses new Biomarker Supervisor Agent"
   ]
  },
  {
   "cell_type": "code",
   "execution_count": null,
   "id": "d85b3ba8-be68-4bd1-8ab6-0911c27e1407",
   "metadata": {},
   "outputs": [],
   "source": [
    "ssm_client = boto3.client('ssm', region)\n",
    "\n",
    "# Update AGENT_ID for Streamlit App\n",
    "ssm_client.put_parameter(\n",
    "    Name='/streamlitapp/env1/AGENT_ID',\n",
    "    Value=supervisor_agent_id,\n",
    "    Type='String',\n",
    "    Overwrite=True\n",
    ")\n",
    "\n",
    "# Update AGENT_ALIAS_ID for Streamlit App\n",
    "ssm_client.put_parameter(\n",
    "    Name='/streamlitapp/env1/AGENT_ALIAS_ID',\n",
    "    Value=supervisor_agent_alias_id,\n",
    "    Type='String',\n",
    "    Overwrite=True\n",
    ")"
   ]
  },
  {
   "cell_type": "markdown",
   "id": "7918a1b7-9dbe-4345-a1a7-870d962bce17",
   "metadata": {},
   "source": [
    "## Ask supervisor agent different question types now that sub-agents are ready! ###"
   ]
  },
  {
   "cell_type": "code",
   "execution_count": null,
   "id": "1f1dbd7b-b9c2-427b-b7e5-23961e64d877",
   "metadata": {
    "tags": []
   },
   "outputs": [],
   "source": [
    "bedrock_agent_runtime_client = boto3.client(\"bedrock-agent-runtime\", region)\n",
    "\n",
    "session_id:str = str(uuid.uuid1())\n",
    "\n",
    "\n",
    "# ---------------------------- Sample Question Bank --------------------------------------------\n",
    "# Redshift Agent Questions\n",
    "redshift_agent_query_1 = \"How many patients are current smokers?\"\n",
    "\n",
    "# Research Evidence Agent Questions\n",
    "research_evidence_agent_query_1 = \"Can you search PubMed for evidence around the effects of biomarker use in oncology on clinical trial failure risk?\"\n",
    "\n",
    "# Medical Imaging Agent Questions (must run in sequence)\n",
    "medical_imaging_agent_query_1 = \"Can you compute the imaging biomarkers for the 2 patients with the lowest gdf15 expression values?\"\n",
    "medical_imaging_agent_query_2 = \"Can you higlight the elongation and sphericity of the tumor with these patients. Can you depict images of them?\"\n",
    "\n",
    "medical_imaging_agent_query_3 = \"Can you compute the imaging biomarkers for the 2 patients with the lowest gdf15 expression values and then higlight the elongation and sphericity of the tumor with these patients?\"\n",
    "\n",
    "# Scientific Analysis Agent Questions\n",
    "scientific_analysis_agent_query_1 = \"What is the best gene biomarker (lowest p value) with overall survival for patients that have undergone chemotherapy, Generate a bar chart of the top 5 gene biomarkers based on their p value and include their names in the x axis.?\"\n",
    "\n",
    "\n",
    "# -----------------------------------------------------------------------------------------\n",
    "\n",
    "\n",
    "response = bedrock_agent_runtime_client.invoke_agent(\n",
    "      inputText=redshift_agent_query_1, # Change value here to test different questions\n",
    "      agentId=supervisor_agent_id,\n",
    "      agentAliasId=supervisor_agent_alias_id, \n",
    "      sessionId=session_id,\n",
    "      enableTrace=True, \n",
    "      endSession=False,\n",
    "      sessionState={}\n",
    ")\n",
    "\n",
    "print(\"Request sent to Supervisor Agent:\\n{}\".format(response))\n",
    "print(\"====================\")\n",
    "print(\"Supervisor Agent processing query and collaborating with sub-agents to get answer\")\n",
    "print(\"====================\")\n",
    "\n",
    "# Initialize an empty string to store the answer\n",
    "answer = \"\"\n",
    "\n",
    "# Iterate through the event stream\n",
    "for event in response['completion']:\n",
    "    # Check if the event is a 'chunk' event\n",
    "    if 'chunk' in event:\n",
    "        chunk_obj = event['chunk']\n",
    "        if 'bytes' in chunk_obj:\n",
    "            # Decode the bytes and append to the answer\n",
    "            chunk_data = chunk_obj['bytes'].decode('utf-8')\n",
    "            answer += chunk_data\n",
    "\n",
    "# Now 'answer' contains the full response from the agent\n",
    "print(\"Agent Answer: {}\".format(answer))\n",
    "print(\"====================\")"
   ]
  },
  {
   "cell_type": "markdown",
   "id": "2c3cb851-c2f5-4883-9a9b-151cbd35daef",
   "metadata": {},
   "source": [
    "## Now the Biomarker Supervisor Agent is ready to assist you!"
   ]
  }
 ],
 "metadata": {
  "kernelspec": {
   "display_name": "conda_python3",
   "language": "python",
   "name": "conda_python3"
  },
  "language_info": {
   "codemirror_mode": {
    "name": "ipython",
    "version": 3
   },
   "file_extension": ".py",
   "mimetype": "text/x-python",
   "name": "python",
   "nbconvert_exporter": "python",
   "pygments_lexer": "ipython3",
   "version": "3.10.16"
  }
 },
 "nbformat": 4,
 "nbformat_minor": 5
}
