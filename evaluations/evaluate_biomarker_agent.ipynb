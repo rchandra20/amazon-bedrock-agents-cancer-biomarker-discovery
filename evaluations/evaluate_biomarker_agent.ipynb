{
 "cells": [
  {
   "cell_type": "markdown",
   "id": "e26af6cd-6310-4f49-9bfe-aa29ddc44c44",
   "metadata": {},
   "source": [
    "# Evaluate Biomarker Supervisor Agent\n",
    "In this notebook we evaluate the Biomarker Supervisor Agent using the [Bedrock Agent Evaluation Framework](https://github.com/aws-samples/amazon-bedrock-agent-evaluation-framework/tree/main)"
   ]
  },
  {
   "cell_type": "markdown",
   "id": "89c64af1",
   "metadata": {},
   "source": [
    "## Pre-requisites\n",
    "\n",
    "1. Set up a LangFuse account using the cloud https://www.langfuse.com or the self-host option for AWS https://github.com/aws-samples/deploy-langfuse-on-ecs-with-fargate/tree/main/langfuse-v3\n",
    "\n",
    "2. Create an organization in Langfuse\n",
    "\n",
    "3. Create a project within your Langfuse organization\n",
    "\n",
    "3. Save your Langfuse project keys (Secret Key, Public Key, and Host) to use later in this notebook\n",
    "\n",
    "4. If you are using the self-hosted option and want to see model costs then you must create a model definition in Langfuse for the LLM used by the Biomarker Supervisor Agent, instructions can be found here https://langfuse.com/docs/model-usage-and-cost#custom-model-definitions\n",
    "\n",
    "Go here for any help needed in the steps above https://langfuse.com/docs/get-started"
   ]
  },
  {
   "cell_type": "markdown",
   "id": "207e9d10-4c32-44e2-8ee3-c88d74db69f6",
   "metadata": {},
   "source": [
    "### Step 1: Clone the [Bedrock Agent Evaluation Framework](https://github.com/aws-samples/amazon-bedrock-agent-evaluation-framework/tree/main)"
   ]
  },
  {
   "cell_type": "code",
   "execution_count": null,
   "id": "34c7d6ce-260a-422e-adbf-38c47c0be1d2",
   "metadata": {},
   "outputs": [],
   "source": [
    "!git clone https://github.com/aws-samples/amazon-bedrock-agent-evaluation-framework.git"
   ]
  },
  {
   "cell_type": "markdown",
   "id": "8cb44d82-7775-4d88-9c74-ffecaa2b4740",
   "metadata": {},
   "source": [
    "### Step 2: Input the relevant information specific to the Biomarker Supervisor Agent and Langfuse setup\n",
    "Note: All of these variables must be filled in for the evaluation to work properly!"
   ]
  },
  {
   "cell_type": "code",
   "execution_count": null,
   "id": "75893427-f84f-4297-9337-aaeb84fd2ba9",
   "metadata": {},
   "outputs": [],
   "source": [
    "user_input = \"\"\"\n",
    "\n",
    "AGENT_ID=\"FILL\"\n",
    "AGENT_ALIAS_ID=\"FILL\"\n",
    "\n",
    "DATA_FILE_PATH=\"../hcls_trajectories.json\"\n",
    "\n",
    "LANGFUSE_PUBLIC_KEY=\"FILL\"\n",
    "LANGFUSE_SECRET_KEY=\"FILL\"\n",
    "LANGFUSE_HOST=\"FILL\"\n",
    "\n",
    "\"\"\""
   ]
  },
  {
   "cell_type": "markdown",
   "id": "90c4e5de-564c-47c6-bd5f-201ffbe937eb",
   "metadata": {},
   "source": [
    "### Step 3: Create config.env that evaluation tool needs"
   ]
  },
  {
   "cell_type": "code",
   "execution_count": null,
   "id": "f9cad0f9-347b-49d7-9c05-fe6d9a1e668b",
   "metadata": {},
   "outputs": [],
   "source": [
    "import os\n",
    "from string import Template\n",
    "\n",
    "# Read the template file from the Bedrock Agent Evaluation Framework\n",
    "template_file_path = os.path.join('amazon-bedrock-agent-evaluation-framework', 'config.env.tpl')\n",
    "with open(template_file_path, 'r') as template_file:\n",
    "    template_content = template_file.read()\n",
    "\n",
    "\n",
    "# Convert template content and user input into dictionaries\n",
    "def parse_env_content(content):\n",
    "    env_dict = {}\n",
    "    for line in content.split('\\n'):\n",
    "        line = line.strip()\n",
    "        if line and not line.startswith('#'):\n",
    "            if '=' in line:\n",
    "                key, value = line.split('=', 1)\n",
    "                env_dict[key.strip()] = value.strip()\n",
    "    return env_dict\n",
    "\n",
    "template_dict = parse_env_content(template_content)\n",
    "user_dict = parse_env_content(user_input)\n",
    "\n",
    "# Merge dictionaries, with user input taking precedence\n",
    "final_dict = {**template_dict, **user_dict}\n",
    "\n",
    "# Create the config.env content\n",
    "config_content = \"\"\n",
    "for key, value in final_dict.items():\n",
    "    config_content += f\"{key}={value}\\n\"\n",
    "\n",
    "# Write to config.env file in the correct folder\n",
    "config_file_path = os.path.join('amazon-bedrock-agent-evaluation-framework', 'config.env')\n",
    "with open(config_file_path, 'w') as config_file:\n",
    "    config_file.write(config_content)\n",
    "\n",
    "print(f\"config.env file has been created successfully in amazon-bedrock-agent-evaluation-framework!\")"
   ]
  },
  {
   "cell_type": "markdown",
   "id": "9008b1dc-e060-4954-ba83-4640b47a9246",
   "metadata": {},
   "source": [
    "### Step 4: Run the evaluation tool to get results in Langfuse!"
   ]
  },
  {
   "cell_type": "markdown",
   "id": "24303dbe",
   "metadata": {},
   "source": [
    "![Example Trace](img/example_traces.png)"
   ]
  },
  {
   "cell_type": "markdown",
   "id": "7259fe25",
   "metadata": {},
   "source": [
    "![Example Trace](img/example_trace.png)"
   ]
  },
  {
   "cell_type": "code",
   "execution_count": null,
   "id": "fe3f4fdd-70ec-44d1-88d7-16a5411671e5",
   "metadata": {},
   "outputs": [],
   "source": [
    "# Execute bash script to run evaluation\n",
    "!chmod +x execute_eval.sh\n",
    "!./execute_eval.sh"
   ]
  },
  {
   "cell_type": "markdown",
   "id": "6cb5bb38",
   "metadata": {},
   "source": [
    "### Step 5: Navigate to your Langfuse host address, open the relevant Langfuse project, and view the traces populated there during evaluation run"
   ]
  }
 ],
 "metadata": {
  "kernelspec": {
   "display_name": "conda_python3",
   "language": "python",
   "name": "conda_python3"
  },
  "language_info": {
   "codemirror_mode": {
    "name": "ipython",
    "version": 3
   },
   "file_extension": ".py",
   "mimetype": "text/x-python",
   "name": "python",
   "nbconvert_exporter": "python",
   "pygments_lexer": "ipython3",
   "version": "3.10.16"
  }
 },
 "nbformat": 4,
 "nbformat_minor": 5
}
